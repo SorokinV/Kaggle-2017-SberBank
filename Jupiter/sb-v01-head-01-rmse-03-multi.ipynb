{
 "cells": [
  {
   "cell_type": "code",
   "execution_count": 1,
   "metadata": {
    "collapsed": false,
    "deletable": true,
    "editable": true
   },
   "outputs": [
    {
     "name": "stdout",
     "output_type": "stream",
     "text": [
      "Directory history (kept in _dh)\n",
      "0: /media/boba/DATA/boba/Working/Kaggle/2017-05-05 SberBank/Jupiter\n"
     ]
    }
   ],
   "source": [
    "%dhist\n",
    "#%dirs\n",
    "#%env"
   ]
  },
  {
   "cell_type": "code",
   "execution_count": 170,
   "metadata": {
    "collapsed": false,
    "deletable": true,
    "editable": true
   },
   "outputs": [
    {
     "name": "stdout",
     "output_type": "stream",
     "text": [
      "CPU times: user 0 ns, sys: 0 ns, total: 0 ns\n",
      "Wall time: 7.87 µs\n",
      "On branch master\r\n",
      "Changes not staged for commit:\r\n",
      "  (use \"git add <file>...\" to update what will be committed)\r\n",
      "  (use \"git checkout -- <file>...\" to discard changes in working directory)\r\n",
      "\r\n",
      "\t\u001b[31mmodified:   sb-v01-head-01-rmse-03-multi.ipynb\u001b[m\r\n",
      "\r\n",
      "no changes added to commit (use \"git add\" and/or \"git commit -a\")\r\n"
     ]
    }
   ],
   "source": [
    "%time\n",
    "!git status\n",
    "#!git add .\n",
    "#!git commit -a -m '85.csv best LB=0.31620 new params from sk CV'"
   ]
  },
  {
   "cell_type": "code",
   "execution_count": 3,
   "metadata": {
    "collapsed": false,
    "deletable": true,
    "editable": true
   },
   "outputs": [
    {
     "name": "stdout",
     "output_type": "stream",
     "text": [
      "data_dictionary.txt\n",
      "macro.csv\n",
      "macro.xlsx\n",
      "sample_submission.csv\n",
      "test.csv\n",
      "train.csv\n",
      "train.xlsx\n",
      "\n"
     ]
    }
   ],
   "source": [
    "import numpy as np # linear algebra\n",
    "import pandas as pd # data processing, CSV file I/O (e.g. pd.read_csv)\n",
    "import seaborn as sns\n",
    "#import keras\n",
    "import matplotlib.pyplot as plt\n",
    "\n",
    "from subprocess import check_output\n",
    "print(check_output([\"ls\", \"../Data\"]).decode(\"utf8\"))\n"
   ]
  },
  {
   "cell_type": "code",
   "execution_count": 4,
   "metadata": {
    "collapsed": true,
    "deletable": true,
    "editable": true
   },
   "outputs": [],
   "source": [
    "import statsmodels.formula.api as smf\n",
    "import statsmodels.tsa.api as smt\n",
    "import statsmodels.api as sm\n",
    "from statsmodels.iolib.table import SimpleTable"
   ]
  },
  {
   "cell_type": "code",
   "execution_count": 5,
   "metadata": {
    "collapsed": true,
    "deletable": true,
    "editable": true
   },
   "outputs": [],
   "source": [
    "import math\n",
    "import datetime\n",
    "from sklearn.preprocessing import LabelEncoder"
   ]
  },
  {
   "cell_type": "code",
   "execution_count": null,
   "metadata": {
    "collapsed": true,
    "deletable": true,
    "editable": true
   },
   "outputs": [],
   "source": []
  },
  {
   "cell_type": "code",
   "execution_count": 6,
   "metadata": {
    "collapsed": true,
    "deletable": true,
    "editable": true
   },
   "outputs": [],
   "source": [
    "# Загружаем данные. Индексом ставим timestamp."
   ]
  },
  {
   "cell_type": "code",
   "execution_count": 7,
   "metadata": {
    "collapsed": false,
    "deletable": true,
    "editable": true
   },
   "outputs": [],
   "source": [
    "macro = pd.read_csv('../Data/macro.csv',index_col=['timestamp'], parse_dates=['timestamp'], dayfirst=True)\n",
    "train = pd.read_csv('../Data/train.csv',index_col=['timestamp'], parse_dates=['timestamp'], dayfirst=True)\n",
    "test = pd.read_csv('../Data/test.csv',index_col=['timestamp'], parse_dates=['timestamp'], dayfirst=True)"
   ]
  },
  {
   "cell_type": "code",
   "execution_count": 8,
   "metadata": {
    "collapsed": false,
    "deletable": true,
    "editable": true,
    "scrolled": true
   },
   "outputs": [
    {
     "data": {
      "text/plain": [
       "((2297, 185),\n",
       " Timestamp('2010-07-07 00:00:00', freq='D'),\n",
       " Timestamp('2016-10-19 00:00:00', freq='D'))"
      ]
     },
     "execution_count": 8,
     "metadata": {},
     "output_type": "execute_result"
    }
   ],
   "source": [
    "llist = range(0,185)\n",
    "##llist = range(-60,90)\n",
    "\n",
    "roll  = 30\n",
    "xLU = macro['usdrub'].rolling(roll).mean()\n",
    "xLE = macro['eurrub'].rolling(roll).mean()\n",
    "\n",
    "xL1 = (pd.concat([100/(macro.usdrub.shift(i))    for i in llist], axis=1,keys=['L1%s' % i for i in llist])).dropna()\n",
    "xL2 = (pd.concat([(macro.usdrub.shift(i))**2 for i in llist], axis=1,keys=['L2%s' % i for i in llist])).dropna()\n",
    "xL3 = (pd.concat([(macro.usdrub.shift(i))**3 for i in llist], axis=1,keys=['L3%s' % i for i in llist])).dropna()\n",
    "xLL =  pd.concat([xL1,xL2,xL3], axis=1) \n",
    "xLL = xL1\n",
    "##xLL = (pd.concat([(macro.usdrub.shift(i)) for i in llist], axis=1,keys=['L%s' % i for i in llist])).dropna()\n",
    "xLL.dropna()\n",
    "del llist\n",
    "##xLL.head(),xLL.tail()\n",
    "xLL.shape, xLL.index.min(),xLL.index.max()"
   ]
  },
  {
   "cell_type": "code",
   "execution_count": 9,
   "metadata": {
    "collapsed": false,
    "deletable": true,
    "editable": true
   },
   "outputs": [
    {
     "data": {
      "text/plain": [
       "((2484, 99), (30471, 291), (7662, 290), (2297, 185))"
      ]
     },
     "execution_count": 9,
     "metadata": {},
     "output_type": "execute_result"
    }
   ],
   "source": [
    "macro.shape, train.shape, test.shape, xLL.shape"
   ]
  },
  {
   "cell_type": "code",
   "execution_count": 10,
   "metadata": {
    "collapsed": false,
    "deletable": true,
    "editable": true
   },
   "outputs": [
    {
     "name": "stdout",
     "output_type": "stream",
     "text": [
      "('macro=', Timestamp('2010-01-01 00:00:00'), Timestamp('2016-10-19 00:00:00'))\n",
      "('train=', Timestamp('2011-08-20 00:00:00'), Timestamp('2015-06-30 00:00:00'))\n",
      "('test =', Timestamp('2015-07-01 00:00:00'), Timestamp('2016-05-30 00:00:00'))\n",
      "('xLL =', Timestamp('2010-07-07 00:00:00', freq='D'), Timestamp('2016-10-19 00:00:00', freq='D'))\n",
      "macro= (2484, 99) ntrain= (30471, 291) ntest= (7662, 290) xLL= (2297, 185)\n"
     ]
    }
   ],
   "source": [
    "# Массивы для перекодировки значений в числовую форму\n",
    "#ntrain, ntest = pd.concat([train,macro],axis=1,join='inner'), pd.concat([test,macro],axis=1,join='inner')\n",
    "\n",
    "ntrain, ntest, nmacro = train.copy(), test.copy(), macro.copy()\n",
    "\n",
    "print('macro=',macro.index.min(),macro.index.max())\n",
    "print('train=',train.index.min(),train.index.max())\n",
    "print('test =',test.index.min(),test.index.max())\n",
    "print('xLL =',xLL.index.min(),xLL.index.max())\n",
    "print 'macro=', macro.shape, 'ntrain=', ntrain.shape, 'ntest=', ntest.shape, 'xLL=', xLL.shape"
   ]
  },
  {
   "cell_type": "code",
   "execution_count": null,
   "metadata": {
    "collapsed": true,
    "deletable": true,
    "editable": true
   },
   "outputs": [],
   "source": []
  },
  {
   "cell_type": "code",
   "execution_count": 11,
   "metadata": {
    "collapsed": true,
    "deletable": true,
    "editable": true
   },
   "outputs": [],
   "source": [
    "# Очистка данных (пока в процессе продумывания)"
   ]
  },
  {
   "cell_type": "code",
   "execution_count": 12,
   "metadata": {
    "collapsed": false,
    "deletable": true,
    "editable": true
   },
   "outputs": [],
   "source": [
    "def clear_datas (data) :\n",
    "    \n",
    "    # clear life_sq\n",
    "    data['life_sq'].dropna(0);\n",
    "    \n",
    "    while (data.life_sq.loc[(data.life_sq>90) & (data.life_sq>data.full_sq)].count()>0) :\n",
    "        data.life_sq.loc[(data.life_sq>90) & (data.life_sq>data.full_sq)] /= 10.0;\n",
    "\n",
    "    iid = data[data.life_sq>data.full_sq].index\n",
    "    data.ix[iid,'life_sq'] = data.ix[iid,'full_sq'];\n",
    "    \n",
    "    data.loc[(data.kitch_sq>1000)|(data.kitch_sq>data.life_sq)] = np.NAN\n",
    "    \n",
    "    return"
   ]
  },
  {
   "cell_type": "code",
   "execution_count": null,
   "metadata": {
    "collapsed": false,
    "deletable": true,
    "editable": true
   },
   "outputs": [],
   "source": []
  },
  {
   "cell_type": "code",
   "execution_count": 13,
   "metadata": {
    "collapsed": false,
    "deletable": true,
    "editable": true
   },
   "outputs": [],
   "source": [
    "# Убираем индекс, переходим на нумерацию для простоты\n",
    "ntrain = ntrain.reset_index()\n",
    "ntest  = ntest.reset_index()\n",
    "nmacro = nmacro.reset_index()\n",
    "xLL    = xLL.reset_index()\n",
    "dict_col_le = {}"
   ]
  },
  {
   "cell_type": "code",
   "execution_count": null,
   "metadata": {
    "collapsed": true,
    "deletable": true,
    "editable": true
   },
   "outputs": [],
   "source": []
  },
  {
   "cell_type": "code",
   "execution_count": 14,
   "metadata": {
    "collapsed": true,
    "deletable": true,
    "editable": true
   },
   "outputs": [],
   "source": [
    "# Сериализация символьных значений"
   ]
  },
  {
   "cell_type": "code",
   "execution_count": 15,
   "metadata": {
    "collapsed": false,
    "deletable": true,
    "editable": true
   },
   "outputs": [],
   "source": [
    "dict_col_le = {}\n",
    "for cc in ntrain.select_dtypes(exclude=['int64', 'float64','datetime64']).columns :\n",
    "    \n",
    "    # Добиваем пустоты в колонке\n",
    "    ntrain[cc] = ntrain[cc].fillna('NANA')\n",
    "    ntest[cc]  = ntest[cc].fillna('NANA')\n",
    "    \n",
    "    le = LabelEncoder()\n",
    "    # Заполняем класс значениями\n",
    "    le.fit(list(ntrain[cc].values.astype('str')) + list(ntest[cc].values.astype('str')))\n",
    "    # Перегоняем и сохраняем в словаре для будущего\n",
    "    ntrain[cc] = le.transform(list(ntrain[cc].values.astype('str')))\n",
    "    ntest[cc]  = le.transform(list(ntest[cc].values.astype('str')))\n",
    "    \n",
    "    #print(cc,le.classes_)\n",
    "    dict_col_le[cc] = le\n",
    "    \n",
    "for cc in nmacro.select_dtypes(exclude=['int64', 'float64','datetime64']).columns :\n",
    "    \n",
    "    # Добиваем пустоты в колонке\n",
    "    nmacro[cc] = nmacro[cc].fillna('NANA')\n",
    "    \n",
    "    le = LabelEncoder()\n",
    "    # Заполняем класс значениями\n",
    "    le.fit(list(nmacro[cc].values.astype('str')))\n",
    "    # Перегоняем и сохраняем в словаре для будущего\n",
    "    nmacro[cc] = le.transform(list(nmacro[cc].values.astype('str')))\n",
    "    \n",
    "    #print(cc,le.classes_)\n",
    "    dict_col_le[cc] = le\n",
    "    \n",
    "# Добиваем пустоты\n",
    "ntrain = ntrain.fillna(0)\n",
    "ntest  = ntest.fillna(0)\n",
    "nmacro = nmacro.fillna(0)"
   ]
  },
  {
   "cell_type": "code",
   "execution_count": 16,
   "metadata": {
    "collapsed": false,
    "deletable": true,
    "editable": true
   },
   "outputs": [
    {
     "data": {
      "text/plain": [
       "['railroad_terminal_raion',\n",
       " 'oil_chemistry_raion',\n",
       " 'culture_objects_top_25',\n",
       " 'product_type',\n",
       " 'sub_area',\n",
       " 'modern_education_share',\n",
       " 'incineration_raion',\n",
       " 'detention_facility_raion',\n",
       " 'thermal_power_plant_raion',\n",
       " 'radiation_raion',\n",
       " 'old_education_build_share',\n",
       " 'railroad_1line',\n",
       " 'ecology',\n",
       " 'big_market_raion',\n",
       " 'water_1line',\n",
       " 'nuclear_reactor_raion',\n",
       " 'big_road1_1line',\n",
       " 'child_on_acc_pre_school']"
      ]
     },
     "execution_count": 16,
     "metadata": {},
     "output_type": "execute_result"
    }
   ],
   "source": [
    "dict_col_le.keys()\n",
    "#ntrain.child_on_acc_pre_school.unique()\n",
    "#ntest.child_on_acc_pre_school.unique()\n",
    "#dict_col_le['sub_area'].inverse_transform(ntrain.sub_area.unique())"
   ]
  },
  {
   "cell_type": "code",
   "execution_count": null,
   "metadata": {
    "collapsed": false,
    "deletable": true,
    "editable": true
   },
   "outputs": [],
   "source": []
  },
  {
   "cell_type": "code",
   "execution_count": 17,
   "metadata": {
    "collapsed": true,
    "deletable": true,
    "editable": true
   },
   "outputs": [],
   "source": [
    "# Дополнение train полями usd, eur и расчет дополнительных результативных полей в train (стоимость м2 в usd и eur для жилой и общей площади)"
   ]
  },
  {
   "cell_type": "code",
   "execution_count": 18,
   "metadata": {
    "collapsed": true,
    "deletable": true,
    "editable": true
   },
   "outputs": [],
   "source": [
    "def add_datetime (data) :\n",
    "    data['day']     = data.timestamp.dt.day  \n",
    "    data['month']   = data.timestamp.dt.month\n",
    "    data['year']    = data.timestamp.dt.year\n",
    "    data['week']    = data.timestamp.dt.week\n",
    "    data['weekday'] = data.timestamp.dt.weekday\n",
    "    \n",
    "    month_year = (data.timestamp.dt.month + data.timestamp.dt.year * 100)\n",
    "    month_year_cnt_map = month_year.value_counts().to_dict()\n",
    "    data['year_month_cnt'] = month_year.map(month_year_cnt_map)\n",
    "    data['year_month']     = (data.timestamp.dt.month + data.timestamp.dt.year * 100)\n",
    "    \n",
    "    week_year = (data.timestamp.dt.week + data.timestamp.dt.year * 100)\n",
    "    week_year_cnt_map = week_year.value_counts().to_dict()\n",
    "    data['year_week_cnt'] = week_year.map(week_year_cnt_map)\n",
    "    data['year_week']     = (data.timestamp.dt.week + data.timestamp.dt.year * 100)\n",
    "    \n",
    "    return\n",
    "\n",
    "def add_features_1 (data) :\n",
    "    \n",
    "    #data = data.reset_index()\n",
    "    \n",
    "    data['build_year0']   = data.build_year;\n",
    "    data.ix[data.build_year<=1500,'build_year0']=data.ix[data.build_year<=1500,'year']-2;\n",
    "    \n",
    "    data['full0']         = data.full_sq; data.ix[data.full_sq<=1,'full0']=50.0\n",
    "    data['life0']         = data.life_sq; data.ix[data.life_sq<=1,'life0']=data.ix[data.life_sq<=1,'full0']; \n",
    "    data.ix[data.life_sq>data.full_sq,'life0'] = data.ix[data.life_sq>data.full_sq,'full0']\n",
    "    \n",
    "    data['floor0']        = data.floor;     data.ix[data.floor<1,'floor0']=1.0;\n",
    "    data['max_floor0']    = data.max_floor; \n",
    "    data.ix[data.max_floor0<data.floor0,'max_floor0']=data.ix[data.max_floor0<data.floor0,'floor0'];\n",
    "    \n",
    "    data.ix[data.kitch_sq>data.life0,'kitch_sq'] = data.ix[data.kitch_sq>data.life0,'life0']\n",
    "    \n",
    "    data.num_room.loc[data.num_room<1] = 1\n",
    "    \n",
    "    data['floor:max']     = data.floor0/data.max_floor0  \n",
    "    data['max-floor']     = data.max_floor0-data.floor0\n",
    "    data['kitch:full']    = data.kitch_sq/data.full0\n",
    "    data['life:full']     = data.life0/data.full0\n",
    "    data['full:room']     = data.full0/data.num_room\n",
    "    data['life:room']     = data.life0/data.num_room\n",
    "    data['full-life']     = data.full0-data.life0\n",
    "    data['build-year']    = data.build_year0-data.year\n",
    "    \n",
    "    #data = data.set_index('timestamp')\n",
    "    \n",
    "    return(data)\n"
   ]
  },
  {
   "cell_type": "code",
   "execution_count": 185,
   "metadata": {
    "collapsed": false,
    "deletable": true,
    "editable": true,
    "scrolled": true
   },
   "outputs": [
    {
     "name": "stdout",
     "output_type": "stream",
     "text": [
      "((30471, 291), (30471, 315), (7662, 290), (7662, 313))\n"
     ]
    },
    {
     "data": {
      "text/html": [
       "<div>\n",
       "<table border=\"1\" class=\"dataframe\">\n",
       "  <thead>\n",
       "    <tr style=\"text-align: right;\">\n",
       "      <th></th>\n",
       "      <th>timestamp</th>\n",
       "      <th>id</th>\n",
       "      <th>full_sq</th>\n",
       "      <th>life_sq</th>\n",
       "      <th>floor</th>\n",
       "      <th>max_floor</th>\n",
       "      <th>material</th>\n",
       "      <th>build_year</th>\n",
       "      <th>num_room</th>\n",
       "      <th>kitch_sq</th>\n",
       "      <th>...</th>\n",
       "      <th>max_floor0</th>\n",
       "      <th>floor:max</th>\n",
       "      <th>max-floor</th>\n",
       "      <th>kitch:full</th>\n",
       "      <th>life:full</th>\n",
       "      <th>full:room</th>\n",
       "      <th>life:room</th>\n",
       "      <th>full-life</th>\n",
       "      <th>build-year</th>\n",
       "      <th>r</th>\n",
       "    </tr>\n",
       "  </thead>\n",
       "  <tbody>\n",
       "    <tr>\n",
       "      <th>0</th>\n",
       "      <td>2011-08-20</td>\n",
       "      <td>1</td>\n",
       "      <td>43</td>\n",
       "      <td>27.0</td>\n",
       "      <td>4.0</td>\n",
       "      <td>0.0</td>\n",
       "      <td>0.0</td>\n",
       "      <td>0.0</td>\n",
       "      <td>1.0</td>\n",
       "      <td>0.0</td>\n",
       "      <td>...</td>\n",
       "      <td>4.0</td>\n",
       "      <td>1.0</td>\n",
       "      <td>0.0</td>\n",
       "      <td>0.0</td>\n",
       "      <td>0.627907</td>\n",
       "      <td>43.0</td>\n",
       "      <td>27.0</td>\n",
       "      <td>16.0</td>\n",
       "      <td>-2.0</td>\n",
       "      <td>136046.511628</td>\n",
       "    </tr>\n",
       "    <tr>\n",
       "      <th>1</th>\n",
       "      <td>2011-08-23</td>\n",
       "      <td>2</td>\n",
       "      <td>34</td>\n",
       "      <td>19.0</td>\n",
       "      <td>3.0</td>\n",
       "      <td>0.0</td>\n",
       "      <td>0.0</td>\n",
       "      <td>0.0</td>\n",
       "      <td>1.0</td>\n",
       "      <td>0.0</td>\n",
       "      <td>...</td>\n",
       "      <td>3.0</td>\n",
       "      <td>1.0</td>\n",
       "      <td>0.0</td>\n",
       "      <td>0.0</td>\n",
       "      <td>0.558824</td>\n",
       "      <td>34.0</td>\n",
       "      <td>19.0</td>\n",
       "      <td>15.0</td>\n",
       "      <td>-2.0</td>\n",
       "      <td>176470.588235</td>\n",
       "    </tr>\n",
       "    <tr>\n",
       "      <th>2</th>\n",
       "      <td>2011-08-27</td>\n",
       "      <td>3</td>\n",
       "      <td>43</td>\n",
       "      <td>29.0</td>\n",
       "      <td>2.0</td>\n",
       "      <td>0.0</td>\n",
       "      <td>0.0</td>\n",
       "      <td>0.0</td>\n",
       "      <td>1.0</td>\n",
       "      <td>0.0</td>\n",
       "      <td>...</td>\n",
       "      <td>2.0</td>\n",
       "      <td>1.0</td>\n",
       "      <td>0.0</td>\n",
       "      <td>0.0</td>\n",
       "      <td>0.674419</td>\n",
       "      <td>43.0</td>\n",
       "      <td>29.0</td>\n",
       "      <td>14.0</td>\n",
       "      <td>-2.0</td>\n",
       "      <td>132558.139535</td>\n",
       "    </tr>\n",
       "    <tr>\n",
       "      <th>3</th>\n",
       "      <td>2011-09-01</td>\n",
       "      <td>4</td>\n",
       "      <td>89</td>\n",
       "      <td>50.0</td>\n",
       "      <td>9.0</td>\n",
       "      <td>0.0</td>\n",
       "      <td>0.0</td>\n",
       "      <td>0.0</td>\n",
       "      <td>1.0</td>\n",
       "      <td>0.0</td>\n",
       "      <td>...</td>\n",
       "      <td>9.0</td>\n",
       "      <td>1.0</td>\n",
       "      <td>0.0</td>\n",
       "      <td>0.0</td>\n",
       "      <td>0.561798</td>\n",
       "      <td>89.0</td>\n",
       "      <td>50.0</td>\n",
       "      <td>39.0</td>\n",
       "      <td>-2.0</td>\n",
       "      <td>147191.011236</td>\n",
       "    </tr>\n",
       "    <tr>\n",
       "      <th>4</th>\n",
       "      <td>2011-09-05</td>\n",
       "      <td>5</td>\n",
       "      <td>77</td>\n",
       "      <td>77.0</td>\n",
       "      <td>4.0</td>\n",
       "      <td>0.0</td>\n",
       "      <td>0.0</td>\n",
       "      <td>0.0</td>\n",
       "      <td>1.0</td>\n",
       "      <td>0.0</td>\n",
       "      <td>...</td>\n",
       "      <td>4.0</td>\n",
       "      <td>1.0</td>\n",
       "      <td>0.0</td>\n",
       "      <td>0.0</td>\n",
       "      <td>1.000000</td>\n",
       "      <td>77.0</td>\n",
       "      <td>77.0</td>\n",
       "      <td>0.0</td>\n",
       "      <td>-2.0</td>\n",
       "      <td>212096.779221</td>\n",
       "    </tr>\n",
       "  </tbody>\n",
       "</table>\n",
       "<p>5 rows × 315 columns</p>\n",
       "</div>"
      ],
      "text/plain": [
       "   timestamp  id  full_sq  life_sq  floor  max_floor  material  build_year  \\\n",
       "0 2011-08-20   1       43     27.0    4.0        0.0       0.0         0.0   \n",
       "1 2011-08-23   2       34     19.0    3.0        0.0       0.0         0.0   \n",
       "2 2011-08-27   3       43     29.0    2.0        0.0       0.0         0.0   \n",
       "3 2011-09-01   4       89     50.0    9.0        0.0       0.0         0.0   \n",
       "4 2011-09-05   5       77     77.0    4.0        0.0       0.0         0.0   \n",
       "\n",
       "   num_room  kitch_sq      ...        max_floor0  floor:max  max-floor  \\\n",
       "0       1.0       0.0      ...               4.0        1.0        0.0   \n",
       "1       1.0       0.0      ...               3.0        1.0        0.0   \n",
       "2       1.0       0.0      ...               2.0        1.0        0.0   \n",
       "3       1.0       0.0      ...               9.0        1.0        0.0   \n",
       "4       1.0       0.0      ...               4.0        1.0        0.0   \n",
       "\n",
       "   kitch:full  life:full  full:room  life:room  full-life  build-year  \\\n",
       "0         0.0   0.627907       43.0       27.0       16.0        -2.0   \n",
       "1         0.0   0.558824       34.0       19.0       15.0        -2.0   \n",
       "2         0.0   0.674419       43.0       29.0       14.0        -2.0   \n",
       "3         0.0   0.561798       89.0       50.0       39.0        -2.0   \n",
       "4         0.0   1.000000       77.0       77.0        0.0        -2.0   \n",
       "\n",
       "               r  \n",
       "0  136046.511628  \n",
       "1  176470.588235  \n",
       "2  132558.139535  \n",
       "3  147191.011236  \n",
       "4  212096.779221  \n",
       "\n",
       "[5 rows x 315 columns]"
      ]
     },
     "execution_count": 185,
     "metadata": {},
     "output_type": "execute_result"
    }
   ],
   "source": [
    "ttrain, ttest = ntrain.copy(), ntest.copy();\n",
    "\n",
    "add_datetime(ttrain)\n",
    "add_datetime(ttest)\n",
    "\n",
    "add_features_1(ttrain)\n",
    "add_features_1(ttest)\n",
    "\n",
    "trainUsdEur = pd.merge(ttrain[['timestamp','price_doc','full0','life0']],nmacro[['timestamp','eurrub','usdrub']],on='timestamp',how='inner')\n",
    "testUsdEur  = pd.merge(ttest [['timestamp','full0','life0']],nmacro[['timestamp','eurrub','usdrub']],on='timestamp',how='inner')\n",
    "\n",
    "trainUsdEur['usdm2full'] = trainUsdEur.price_doc/(trainUsdEur.usdrub*trainUsdEur.full0)\n",
    "trainUsdEur['usdm2life'] = trainUsdEur.price_doc/(trainUsdEur.usdrub*trainUsdEur.life0)\n",
    "\n",
    "if False :\n",
    "    ttrain['usd']=ttrain.price_doc/ttrain.usdrub; \n",
    "    ttrain['eur']=ttrain.price_doc/ttrain.eurrub\n",
    "\n",
    "    ttrain['usdm2full'] = ttrain.usd/(ttrain.full0)\n",
    "    ttrain['usdm2life'] = ttrain.usd/(ttrain.life0)\n",
    "\n",
    "    usdm2Max = 7000\n",
    "    usdm2Min = 1000\n",
    "\n",
    "    ttrain = ttrain[ttrain.usdm2full<=usdm2Max]\n",
    "    ttrain = ttrain[ttrain.usdm2full>=usdm2Min]\n",
    "\n",
    "    ttrain['eurm2full'] = ttrain.eur/(ttrain.full0)\n",
    "    ttrain['eurm2life'] = ttrain.eur/(ttrain.life0)\n",
    "\n",
    "    #ttrain['full_life'], ttest['full_life'] = (ttrain.full_sq+1)/(ttrain.life_sq+1), (ttest.full_sq+1)/(ttest.life_sq+1)\n",
    "\n",
    "    ttrain['div_eurrub'],  ttest['div_eurrub']  = 1/ttrain.eurrub, 1/ttest.eurrub\n",
    "    ttrain['div_usdrub'],  ttest['div_usdrub']  = 1/ttrain.usdrub, 1/ttest.usdrub\n",
    "    ttrain['div_eurrub2'], ttest['div_eurrub2'] = ttrain.div_eurrub**2, ttest.div_eurrub**2\n",
    "    ttrain['div_usdrub2'], ttest['div_usdrub2'] = ttrain.div_usdrub**2, ttest.div_usdrub**2\n",
    "\n",
    "    ###ttrain['r']    = np.log1p(ttrain.price_doc) # 2017-05-31 LB = 0.86\n",
    "    ###ttrain['r']    = np.log1p(ttrain.usdm2full) # 2017-06-02 LB = 0.51\n",
    "    ###ttrain['r']    = ttrain.usdm2full # 2017-06-02 LB = 0.361\n",
    "    ###ttrain['r'] = ttrain.price_doc/(ttrain.full_sq+1.0) # # 2017-06-02 LB = 0.41066\n",
    "    ##ttrain['r'] = ttrain.usdm2life # # 2017-06-02 LB = 0.37543\n",
    "#######################################################################################################\n",
    "\n",
    "coef = 1.0 # 0.969\n",
    "#ttrain['r'] = ttrain.price_doc # ttrain.usdm2full*coef \n",
    "##ttrain['r'] = ttrain.price_doc/ttrain.life0 # 2017-06-22 better = 0.31770\n",
    "##ttrain['r'] = ttrain.price_doc*ttrain['life:full']/ttrain.full0 # 2017-06-23\n",
    "##ttrain['r'] = trainUsdEur.usdm2full # 2017-06-24\n",
    "#ttrain['r'] = ttrain.price_doc # 2017-06-25 best results 0.3195\n",
    "\n",
    "ttrain['r'] = ttrain.price_doc/ttrain.full0 # 2017-06-25 LB=0.31640 \n",
    "#ttrain['r'] = ttrain.price_doc*2/(ttrain.full0+ttrain.life0) # 2017-06-25 LB= 0.31726 (only full0 better)\n",
    "##ttrain['r'] = ttrain.price_doc*ttrain['life:full']/ttrain.full0 # 2017-06-25 LB=0.31994\n",
    "#######################################################################################################\n",
    "\n",
    "print(train.shape,ttrain.shape,test.shape,ttest.shape) #,llist)\n",
    "ttrain.head()"
   ]
  },
  {
   "cell_type": "code",
   "execution_count": null,
   "metadata": {
    "collapsed": false,
    "deletable": true,
    "editable": true
   },
   "outputs": [],
   "source": []
  },
  {
   "cell_type": "code",
   "execution_count": 186,
   "metadata": {
    "collapsed": false,
    "deletable": true,
    "editable": true
   },
   "outputs": [
    {
     "data": {
      "image/png": "[encoded data removed]",
      "text/plain": [
       "<matplotlib.figure.Figure at 0x7fdb90624850>"
      ]
     },
     "metadata": {},
     "output_type": "display_data"
    }
   ],
   "source": [
    "roll, roll1, shiftUE, poly  = 14,30,40,12\n",
    "xLU = macro['usdrub'].rolling(roll).mean().dropna().shift(shiftUE)\n",
    "xLE = macro['eurrub'].rolling(roll).mean().dropna().shift(shiftUE)\n",
    "rr = ttrain[['r','timestamp']].set_index('timestamp')\n",
    "rr = rr['r'].resample('D').mean().rolling(roll1,min_periods=1).mean()\n",
    "\n",
    "#print(xLU.tail())\n",
    "\n",
    "rue_data = pd.DataFrame();\n",
    "rue_data['usd'] = xLU;\n",
    "rue_data['r']  = rr\n",
    "rue_data['eur']  = xLE\n",
    "for i in range(2,poly) :\n",
    "    rue_data['usd'+str(i)] = rue_data.usd**i\n",
    "    rue_data['eur'+str(i)] = rue_data.eur**i\n",
    "#print rue_data.tail()\n",
    "\n",
    "plt.plot(rue_data[(rue_data.index>='2014')]['usd']*200); \n",
    "plt.plot(rue_data[(rue_data.index>='2014')]['eur']*200); \n",
    "plt.plot(rr[rr.index>='2014']-140000);\n",
    "plt.show()\n",
    "xLL = rue_data.copy().drop('r',axis=1); \n",
    "xLL = xLL.dropna();\n",
    "rue_data = rue_data.dropna()\n",
    "#xLL.head(), xLL.tail()"
   ]
  },
  {
   "cell_type": "code",
   "execution_count": 187,
   "metadata": {
    "collapsed": false,
    "deletable": true,
    "editable": true,
    "scrolled": true
   },
   "outputs": [
    {
     "name": "stdout",
     "output_type": "stream",
     "text": [
      "usd2+eur2+usd3+eur3+usd4+eur4+usd5+eur5+usd6+eur6+usd7+eur7+usd8+eur8+usd9+eur9+usd10+eur10+usd11+eur11\n",
      "                            OLS Regression Results                            \n",
      "==============================================================================\n",
      "Dep. Variable:                      r   R-squared:                       0.833\n",
      "Model:                            OLS   Adj. R-squared:                  0.831\n",
      "Method:                 Least Squares   F-statistic:                     449.2\n",
      "Date:                Tue, 27 Jun 2017   Prob (F-statistic):               0.00\n",
      "Time:                        23:00:23   Log-Likelihood:                -8716.5\n",
      "No. Observations:                 911   AIC:                         1.745e+04\n",
      "Df Residuals:                     900   BIC:                         1.751e+04\n",
      "Df Model:                          10                                         \n",
      "Covariance Type:            nonrobust                                         \n",
      "==============================================================================\n",
      "                 coef    std err          t      P>|t|      [0.025      0.975]\n",
      "------------------------------------------------------------------------------\n",
      "Intercept   3.924e-11   1.61e-12     24.341      0.000    3.61e-11    4.24e-11\n",
      "usd        -2.676e-06   1.67e-07    -16.018      0.000      -3e-06   -2.35e-06\n",
      "eur         1.171e-06   8.25e-08     14.193      0.000    1.01e-06    1.33e-06\n",
      "usd2       -1.202e-08   1.57e-09     -7.673      0.000   -1.51e-08   -8.94e-09\n",
      "eur2         3.43e-08   1.47e-09     23.303      0.000    3.14e-08    3.72e-08\n",
      "usd3       -9.937e-07   8.34e-08    -11.910      0.000   -1.16e-06    -8.3e-07\n",
      "eur3        8.207e-07   3.46e-08     23.728      0.000    7.53e-07    8.89e-07\n",
      "usd4        -2.59e-05   2.05e-06    -12.657      0.000   -2.99e-05   -2.19e-05\n",
      "eur4        1.707e-05   7.18e-07     23.790      0.000    1.57e-05    1.85e-05\n",
      "usd5          -0.0005   3.56e-05    -13.062      0.000      -0.001      -0.000\n",
      "eur5           0.0003   1.12e-05     23.995      0.000       0.000       0.000\n",
      "usd6          -0.0046      0.000    -13.313      0.000      -0.005      -0.004\n",
      "eur6           0.0025      0.000     24.365      0.000       0.002       0.003\n",
      "usd7           0.0004   2.99e-05     13.076      0.000       0.000       0.000\n",
      "eur7          -0.0002    7.7e-06    -22.601      0.000      -0.000      -0.000\n",
      "usd8       -1.335e-05   1.04e-06    -12.853      0.000   -1.54e-05   -1.13e-05\n",
      "eur8        4.974e-06   2.39e-07     20.810      0.000     4.5e-06    5.44e-06\n",
      "usd9        2.292e-07   1.81e-08     12.643      0.000    1.94e-07    2.65e-07\n",
      "eur9         -7.2e-08   3.77e-09    -19.102      0.000   -7.94e-08   -6.46e-08\n",
      "usd10      -1.974e-09   1.59e-10    -12.445      0.000   -2.29e-09   -1.66e-09\n",
      "eur10       5.264e-10      3e-11     17.547      0.000    4.68e-10    5.85e-10\n",
      "usd11       6.815e-12   5.56e-13     12.259      0.000    5.72e-12    7.91e-12\n",
      "eur11      -1.551e-12   9.59e-14    -16.172      0.000   -1.74e-12   -1.36e-12\n",
      "==============================================================================\n",
      "Omnibus:                      150.880   Durbin-Watson:                   0.058\n",
      "Prob(Omnibus):                  0.000   Jarque-Bera (JB):              380.050\n",
      "Skew:                          -0.876   Prob(JB):                     2.97e-83\n",
      "Kurtosis:                       5.635   Cond. No.                     7.78e+27\n",
      "==============================================================================\n",
      "\n",
      "Warnings:\n",
      "[1] Standard Errors assume that the covariance matrix of the errors is correctly specified.\n",
      "[2] The smallest eigenvalue is 1.72e-13. This might indicate that there are\n",
      "strong multicollinearity problems or that the design matrix is singular.\n"
     ]
    },
    {
     "name": "stderr",
     "output_type": "stream",
     "text": [
      "/home/boba/anaconda2/envs/tensorflow-gpu/lib/python2.7/site-packages/ipykernel/__main__.py:20: SettingWithCopyWarning: \n",
      "A value is trying to be set on a copy of a slice from a DataFrame.\n",
      "Try using .loc[row_indexer,col_indexer] = value instead\n",
      "\n",
      "See the caveats in the documentation: http://pandas.pydata.org/pandas-docs/stable/indexing.html#indexing-view-versus-copy\n",
      "/home/boba/anaconda2/envs/tensorflow-gpu/lib/python2.7/site-packages/ipykernel/__main__.py:21: SettingWithCopyWarning: \n",
      "A value is trying to be set on a copy of a slice from a DataFrame.\n",
      "Try using .loc[row_indexer,col_indexer] = value instead\n",
      "\n",
      "See the caveats in the documentation: http://pandas.pydata.org/pandas-docs/stable/indexing.html#indexing-view-versus-copy\n",
      "/home/boba/anaconda2/envs/tensorflow-gpu/lib/python2.7/site-packages/ipykernel/__main__.py:23: SettingWithCopyWarning: \n",
      "A value is trying to be set on a copy of a slice from a DataFrame.\n",
      "Try using .loc[row_indexer,col_indexer] = value instead\n",
      "\n",
      "See the caveats in the documentation: http://pandas.pydata.org/pandas-docs/stable/indexing.html#indexing-view-versus-copy\n"
     ]
    },
    {
     "data": {
      "image/png": "[encoded data removed]",
      "text/plain": [
       "<matplotlib.figure.Figure at 0x7fdb906edb90>"
      ]
     },
     "metadata": {},
     "output_type": "display_data"
    },
    {
     "data": {
      "text/plain": [
       "((2428, 2),       timestamp             LL\n",
       " 2423 2016-10-15  146105.419239\n",
       " 2424 2016-10-16  146119.050711\n",
       " 2425 2016-10-17  145970.463726\n",
       " 2426 2016-10-18  145820.491959\n",
       " 2427 2016-10-19  145865.793190)"
      ]
     },
     "execution_count": 187,
     "metadata": {},
     "output_type": "execute_result"
    }
   ],
   "source": [
    "import statsmodels.formula.api as smf\n",
    "import statsmodels.tsa.api as smt\n",
    "import statsmodels.api as sm\n",
    "from statsmodels.iolib.table import SimpleTable\n",
    "\n",
    "rue2014 = rue_data[rue_data.index>='2013']\n",
    "\n",
    "rue_f = '+'.join(['usd'+str(i)+'+eur'+str(i) for i in range(2,poly)])\n",
    "print(rue_f)\n",
    "rue = sm.OLS.from_formula(\"r ~ usd+eur+\"+rue_f, data=rue2014)\n",
    "#rue = sm.OLS.from_formula(\"r ~ usd+eur\", data=rue2014)\n",
    "rue_m  = rue.fit()\n",
    "print rue_m.summary()\n",
    "\n",
    "rue = macro[['usdrub','eurrub']]; rue.columns=['usd','eur']\n",
    "\n",
    "rue.usd = rue.usd.rolling(roll).mean().dropna().shift(shiftUE)\n",
    "rue.eur = rue.eur.rolling(roll).mean().dropna().shift(shiftUE)\n",
    "for i in range(2,poly) :\n",
    "    rue['usd'+str(i)] = rue.usd**i\n",
    "    rue['eur'+str(i)] = rue.eur**i\n",
    "xLL = pd.DataFrame(rue_m.predict(rue),columns=['LL'])\n",
    "rue2014['LL'] = xLL.LL\n",
    "xLL = xLL.dropna().reset_index()\n",
    "plt.plot(rue2014['LL'].ravel()); plt.plot(rue2014['r'].ravel()); \n",
    "plt.show()\n",
    "xLL.shape, xLL.tail()\n"
   ]
  },
  {
   "cell_type": "code",
   "execution_count": 188,
   "metadata": {
    "collapsed": true,
    "deletable": true,
    "editable": true
   },
   "outputs": [],
   "source": [
    "# Начинаем строить модель по остаткам train данных"
   ]
  },
  {
   "cell_type": "code",
   "execution_count": 189,
   "metadata": {
    "collapsed": false,
    "deletable": true,
    "editable": true
   },
   "outputs": [],
   "source": [
    "col_res     = ['r'];\n",
    "col_notuse  = ['usdm2full','usdm2life','eurm2full','eurm2life','price_doc','id','eur','usd','timestamp']+col_res\n",
    "##col_notuse += ['full_sq', 'life_sq', 'floor', 'max_floor', 'build_year']\n",
    "\n",
    "### begin 2017-06-04 after\n",
    "\n",
    "col_notuse += ['build_year0','max_floor0'] #, 'full0'] #, 'life0']  #, 'floor0']\n",
    "#######col_notuse += ['usdrub','eurrub'] \n",
    "col_notuse += ['life_sq','floor','full0']\n",
    "\n",
    "col_notuse += ['material'] #'build-year'] # ???????????????????\n",
    "#col_notuse += ['day','year','week','month'] # ???????????????????   22-06\n",
    "##col_notuse += ['area_m','sub_area','state'] # ???????????????????  22-06\n",
    "##col_notuse += ['state'] # ??????????????????? 22-06\n",
    "##col_notuse += ['full_sq','max_floor'] # ??????????????????? 22-06\n",
    "\n",
    "\n",
    "##################################################################\n",
    "col_notuse += [ntrain.columns[i] for i in range(0,len(ntrain.columns)) if ntrain.dtypes[i]=='O']\n",
    "col_notuse += [ntrain.columns[i] for i in range(0,len(ntrain.columns)) if len(ntrain[ntrain.columns[i]].unique())<=1]\n",
    "\n",
    "col_use    = [ x for x in ttrain.columns.tolist() if x not in col_notuse];\n"
   ]
  },
  {
   "cell_type": "code",
   "execution_count": 190,
   "metadata": {
    "collapsed": true,
    "deletable": true,
    "editable": true
   },
   "outputs": [],
   "source": [
    "#\n",
    "#  Процедуры для синхронного построения из массивов (train, test, macro, ll) оценочных массивов (train_x, train_y, test_y)\n",
    "#     в разных компоновочных вариантах\n",
    "#\n",
    "\n",
    "def ttConcat   (train,test,right) :\n",
    "    train  = train.set_index('timestamp')\n",
    "    test   = test.set_index('timestamp')\n",
    "    right  = right.set_index('timestamp')\n",
    "    \n",
    "    ntrain, ntest = pd.concat([train,right],axis=1,join='inner'), pd.concat([test,right],axis=1,join='inner')\n",
    "    \n",
    "    train  = train.reset_index()\n",
    "    test   = test.reset_index()\n",
    "    right  = right.reset_index()\n",
    "    \n",
    "    ntrain = ntrain.reset_index()\n",
    "    ntest  = ntest.reset_index()\n",
    "    \n",
    "    return ntrain, ntest\n",
    "\n",
    "def pd1   (col_notuse,col_res,train,test) :\n",
    "    col_use    = [ x for x in train.columns.tolist() if x not in col_notuse];\n",
    "    return train[col_use],train[col_res],test[col_use]\n",
    "\n",
    "def pd1m  (col_notuse,col_res,train,test,macro) :\n",
    "    ntrain, ntest = ttConcat(train,test,macro)\n",
    "    return pd1(col_notuse,col_res,ntrain,ntest)\n",
    "\n",
    "def pd1l  (col_notuse,col_res,train,test,ll) :\n",
    "    ntrain, ntest = ttConcat(train,test,ll)\n",
    "    return pd1(col_notuse,col_res,ntrain,ntest)\n",
    "\n",
    "def pd1ml (col_notuse,col_res,train,test,macro,ll) :\n",
    "    print train.shape, test.shape\n",
    "    ntrain, ntest = ttConcat(train,test,macro)\n",
    "    print ntrain.shape, ntest.shape\n",
    "    ntrain, ntest = ttConcat(ntrain,ntest,ll)\n",
    "    print ntrain.shape, ntest.shape\n",
    "    return pd1(col_notuse,col_res,ntrain,ntest)\n"
   ]
  },
  {
   "cell_type": "code",
   "execution_count": 205,
   "metadata": {
    "collapsed": false,
    "deletable": true,
    "editable": true
   },
   "outputs": [
    {
     "name": "stdout",
     "output_type": "stream",
     "text": [
      "(30471, 291) (30471, 77) (30471, 1) (7662, 290) (7662, 77)\n"
     ]
    }
   ],
   "source": [
    "col_notuse = col_notuse + col_not_use_imp\n",
    "#train_x, train_y, test_x  = pd1ml (col_notuse,col_res,ttrain,ttest,nmacro,xLL)\n",
    "#train_x, train_y, test_x  = pd1m (col_notuse,col_res,ttrain,ttest,nmacro)\n",
    "#train_x, train_y, test_x  = pd1l (col_notuse,col_res,ttrain,ttest,xLL)\n",
    "train_x, train_y, test_x  = pd1 (col_notuse,col_res,ttrain,ttest)\n",
    "#train_x, train_y, test_x  = pd1l (col_notuse,col_res,ttrain,ttest,xLL)\n",
    "\n",
    "print train.shape, train_x.shape, train_y.shape, test.shape, test_x.shape"
   ]
  },
  {
   "cell_type": "code",
   "execution_count": 207,
   "metadata": {
    "collapsed": false,
    "deletable": true,
    "editable": true
   },
   "outputs": [
    {
     "data": {
      "text/plain": [
       "['usdm2full',\n",
       " 'usdm2life',\n",
       " 'eurm2full',\n",
       " 'eurm2life',\n",
       " 'price_doc',\n",
       " 'id',\n",
       " 'eur',\n",
       " 'usd',\n",
       " 'timestamp',\n",
       " 'r',\n",
       " 'build_year0',\n",
       " 'max_floor0',\n",
       " 'life_sq',\n",
       " 'floor',\n",
       " 'full0',\n",
       " 'material',\n",
       " 'young_male',\n",
       " 'mosque_count_2000',\n",
       " '0_13_all',\n",
       " 'mosque_count_500',\n",
       " 'build_count_foam',\n",
       " '0_17_female',\n",
       " '0_13_female',\n",
       " 'big_market_raion',\n",
       " 'nuclear_reactor_raion',\n",
       " '7_14_all',\n",
       " 'university_top_20_raion',\n",
       " '0_6_all',\n",
       " 'big_church_count_500',\n",
       " '7_14_female',\n",
       " 'railroad_1line',\n",
       " 'cafe_count_2000_price_high',\n",
       " 'build_count_mix',\n",
       " 'culture_objects_top_25_raion',\n",
       " '7_14_male',\n",
       " 'thermal_power_plant_raion',\n",
       " 'water_1line',\n",
       " 'trc_count_500',\n",
       " 'cafe_count_1500_price_high',\n",
       " 'cafe_count_500_price_4000',\n",
       " 'big_road1_1line',\n",
       " 'raion_build_count_with_builddate_info',\n",
       " '0_17_male',\n",
       " '16_29_female',\n",
       " '0_6_male',\n",
       " 'cafe_count_3000_price_high',\n",
       " 'female_f',\n",
       " 'detention_facility_raion',\n",
       " 'work_male',\n",
       " 'build_count_frame',\n",
       " 'work_all',\n",
       " 'young_all',\n",
       " 'cafe_count_1000_price_high',\n",
       " 'leisure_count_500',\n",
       " 'church_count_500',\n",
       " 'big_church_count_1000',\n",
       " '16_29_male',\n",
       " 'school_education_centers_top_20_raion',\n",
       " 'market_count_1000',\n",
       " 'young_female',\n",
       " 'ID_bus_terminal',\n",
       " 'culture_objects_top_25',\n",
       " 'radiation_raion',\n",
       " 'leisure_count_1500',\n",
       " 'build_count_before_1920',\n",
       " '0_6_female',\n",
       " 'leisure_count_1000',\n",
       " 'build_count_slag',\n",
       " 'ID_railroad_terminal',\n",
       " 'children_school',\n",
       " 'office_count_500',\n",
       " 'school_education_centers_raion',\n",
       " 'leisure_count_2000',\n",
       " 'cafe_count_1500_price_4000',\n",
       " 'ekder_female',\n",
       " 'cafe_count_500_na_price',\n",
       " 'market_count_500',\n",
       " 'ekder_male',\n",
       " 'church_count_1000',\n",
       " 'cafe_count_500_price_2500',\n",
       " 'work_female',\n",
       " 'office_raion',\n",
       " 'build_count_wood',\n",
       " 'sport_objects_raion',\n",
       " 'preschool_education_centers_raion',\n",
       " 'cafe_count_1000_price_4000',\n",
       " 'build_count_1921-1945',\n",
       " 'ecology',\n",
       " 'market_count_3000',\n",
       " 'build_count_after_1995',\n",
       " 'healthcare_centers_raion',\n",
       " 'leisure_count_5000',\n",
       " 'year',\n",
       " 'market_count_2000',\n",
       " 'build_count_1946-1970',\n",
       " 'big_church_count_1500',\n",
       " 'cafe_count_1000_na_price',\n",
       " 'additional_education_raion',\n",
       " 'big_church_count_2000',\n",
       " 'male_f',\n",
       " 'cafe_count_1500_na_price',\n",
       " 'ekder_all',\n",
       " 'build_count_1971-1995',\n",
       " '16_29_all',\n",
       " 'children_preschool',\n",
       " 'big_church_count_5000',\n",
       " 'cafe_count_3000_price_4000',\n",
       " 'cafe_count_2000_price_2500',\n",
       " 'raion_popul',\n",
       " 'trc_count_1000',\n",
       " 'cafe_count_500_price_1500',\n",
       " 'build_count_brick',\n",
       " 'market_count_1500',\n",
       " 'market_count_5000',\n",
       " 'church_count_1500',\n",
       " 'cafe_count_1500_price_2500',\n",
       " 'build_count_monolith',\n",
       " 'cafe_avg_price_500',\n",
       " 'office_count_1000',\n",
       " 'office_count_1500',\n",
       " 'office_count_2000',\n",
       " 'big_church_count_3000',\n",
       " 'cafe_count_2000_na_price',\n",
       " 'cafe_count_500_price_500',\n",
       " 'shopping_centers_raion',\n",
       " 'cafe_count_500_price_1000',\n",
       " 'school_quota',\n",
       " 'cafe_count_2000_price_4000',\n",
       " 'trc_sqm_500',\n",
       " 'cafe_avg_price_1500',\n",
       " 'cafe_count_2000_price_1500',\n",
       " 'cafe_count_1000_price_500',\n",
       " 'raion_build_count_with_material_info',\n",
       " 'cafe_count_1000_price_2500',\n",
       " 'ID_big_road1',\n",
       " 'sport_count_500',\n",
       " 'cafe_avg_price_2000',\n",
       " 'full_all',\n",
       " 'cafe_count_1000_price_1500',\n",
       " 'cafe_count_500',\n",
       " 'cafe_count_5000_price_1500',\n",
       " 'railroad_station_walk_min',\n",
       " 'cafe_avg_price_3000',\n",
       " 'ID_railroad_station_avto',\n",
       " 'cafe_count_1500_price_1000',\n",
       " 'cafe_avg_price_1000',\n",
       " 'cafe_count_1500_price_500',\n",
       " 'metro_km_walk',\n",
       " 'kremlin_km',\n",
       " 'cafe_count_1000_price_1000',\n",
       " 'cafe_count_5000_price_4000',\n",
       " 'indust_part',\n",
       " 'church_count_2000',\n",
       " 'church_count_5000',\n",
       " 'leisure_count_3000',\n",
       " 'build_count_block',\n",
       " 'build_count_panel',\n",
       " 'office_count_3000',\n",
       " 'cafe_count_3000_price_1500',\n",
       " 'cafe_count_3000_price_500',\n",
       " 'office_count_5000',\n",
       " 'cafe_avg_price_5000',\n",
       " 'green_zone_part',\n",
       " 'cafe_count_5000_na_price',\n",
       " 'cafe_count_5000_price_1000',\n",
       " 'cafe_sum_1000_max_price_avg',\n",
       " 'cafe_count_3000_na_price',\n",
       " 'office_sqm_500',\n",
       " 'sport_count_2000',\n",
       " 'preschool_quota',\n",
       " 'ID_big_road2',\n",
       " 'public_transport_station_min_walk',\n",
       " 'cafe_count_2000_price_500',\n",
       " 'cafe_count_1500_price_1500',\n",
       " 'cafe_count_5000_price_500',\n",
       " 'trc_count_3000',\n",
       " 'sport_count_1500',\n",
       " 'trc_count_1500',\n",
       " 'cafe_count_2000_price_1000',\n",
       " 'ID_railroad_station_walk',\n",
       " 'sport_count_1000',\n",
       " 'trc_count_2000',\n",
       " 'cafe_count_3000_price_1000',\n",
       " 'office_sqm_1000',\n",
       " 'cafe_count_5000_price_high',\n",
       " 'hospital_beds_raion',\n",
       " 'trc_count_5000',\n",
       " 'cafe_sum_500_max_price_avg',\n",
       " 'cafe_sum_1500_max_price_avg',\n",
       " 'weekday',\n",
       " 'bulvar_ring_km',\n",
       " 'cafe_count_3000_price_2500',\n",
       " 'church_count_3000',\n",
       " 'sport_count_5000',\n",
       " 'sub_area',\n",
       " 'trc_sqm_1000',\n",
       " 'cafe_sum_2000_max_price_avg',\n",
       " 'cafe_sum_500_min_price_avg',\n",
       " 'area_m',\n",
       " 'office_sqm_1500',\n",
       " 'cafe_count_1500',\n",
       " 'ID_metro',\n",
       " 'office_sqm_3000',\n",
       " 'office_sqm_2000',\n",
       " 'sadovoe_km',\n",
       " 'cafe_count_1000',\n",
       " 'cafe_sum_3000_max_price_avg',\n",
       " 'product_type',\n",
       " 'cafe_sum_1500_min_price_avg',\n",
       " 'sport_count_3000',\n",
       " 'cafe_count_5000',\n",
       " 'office_sqm_5000',\n",
       " 'cafe_sum_5000_max_price_avg',\n",
       " 'cafe_sum_1000_min_price_avg',\n",
       " 'trc_sqm_5000',\n",
       " 'trc_sqm_2000',\n",
       " 'cafe_sum_3000_min_price_avg',\n",
       " 'mkad_km',\n",
       " 'incineration_km',\n",
       " 'water_treatment_km',\n",
       " 'trc_sqm_1500',\n",
       " 'exhibition_km',\n",
       " 'prom_part_500',\n",
       " 'cafe_sum_2000_min_price_avg',\n",
       " 'num_room',\n",
       " 'nuclear_reactor_km',\n",
       " 'month',\n",
       " 'cafe_count_5000_price_2500',\n",
       " 'trc_sqm_3000',\n",
       " 'cafe_sum_5000_min_price_avg',\n",
       " 'thermal_power_plant_km',\n",
       " 'cafe_count_2000',\n",
       " 'museum_km',\n",
       " 'mosque_km',\n",
       " 'big_market_km',\n",
       " 'railroad_station_avto_km',\n",
       " 'theater_km',\n",
       " 'cafe_count_3000',\n",
       " 'detention_facility_km',\n",
       " 'basketball_km',\n",
       " 'prom_part_5000',\n",
       " 'year_month_cnt',\n",
       " 'prom_part_1500',\n",
       " 'stadium_km']"
      ]
     },
     "execution_count": 207,
     "metadata": {},
     "output_type": "execute_result"
    }
   ],
   "source": [
    "#col_not_use_imp.tolist()\n",
    "col_notuse"
   ]
  },
  {
   "cell_type": "code",
   "execution_count": 208,
   "metadata": {
    "collapsed": false,
    "deletable": true,
    "editable": true
   },
   "outputs": [],
   "source": [
    "# Не проходит, нет результативности # train_y.r  /= train_x.LL;"
   ]
  },
  {
   "cell_type": "code",
   "execution_count": 209,
   "metadata": {
    "collapsed": false,
    "deletable": true,
    "editable": true
   },
   "outputs": [
    {
     "data": {
      "image/png": "[encoded data removed]",
      "text/plain": [
       "<matplotlib.figure.Figure at 0x7fdb91be5610>"
      ]
     },
     "metadata": {},
     "output_type": "display_data"
    },
    {
     "data": {
      "image/png": "[encoded data removed]",
      "text/plain": [
       "<matplotlib.figure.Figure at 0x7fdb868578d0>"
      ]
     },
     "metadata": {},
     "output_type": "display_data"
    },
    {
     "data": {
      "image/png": "[encoded data removed]",
      "text/plain": [
       "<matplotlib.figure.Figure at 0x7fdb8440ea10>"
      ]
     },
     "metadata": {},
     "output_type": "display_data"
    }
   ],
   "source": [
    "plt.hist(train_y[10000:].r.ravel(),bins=400); plt.show()\n",
    "plt.plot(macro.usdrub); plt.show()\n",
    "plt.plot(train_y[16000:]); plt.show()"
   ]
  },
  {
   "cell_type": "code",
   "execution_count": null,
   "metadata": {
    "collapsed": false,
    "deletable": true,
    "editable": true
   },
   "outputs": [],
   "source": []
  },
  {
   "cell_type": "code",
   "execution_count": 210,
   "metadata": {
    "collapsed": false,
    "deletable": true,
    "editable": true
   },
   "outputs": [
    {
     "name": "stdout",
     "output_type": "stream",
     "text": [
      "30471 30471\n"
     ]
    }
   ],
   "source": [
    "print len(train),len(train_x)"
   ]
  },
  {
   "cell_type": "code",
   "execution_count": 211,
   "metadata": {
    "collapsed": false,
    "deletable": true,
    "editable": true
   },
   "outputs": [],
   "source": [
    "import xgboost as xgb\n",
    "\n",
    "def rmsle(preds, dtrain, dmatrix=True):\n",
    "    if dmatrix : labels = dtrain.get_label()\n",
    "    else : labels = dtrain\n",
    "    assert len(preds) == len(labels)\n",
    "    preds_ = np.abs(preds)\n",
    "    logs   = np.log1p(labels)-np.log1p(preds_)\n",
    "    logs2  = np.sqrt((logs*logs).mean())\n",
    "    return 'rmsle', logs2\n",
    "\n",
    "def rmsleSK(ground_true, preds):\n",
    "    labels = ground_true\n",
    "    assert len(preds) == len(labels)\n",
    "    preds_ = np.abs(preds)\n",
    "    logs   = np.log1p(labels)-np.log1p(preds_)\n",
    "    logs2  = np.sqrt((logs*logs).mean())\n",
    "    return -logs2\n",
    "\n",
    "def xgbtrain (param, train_x, train_y, num_round=1800, stopping=10, ratio=0.9) :\n",
    "    \n",
    "    split = int(round(ratio*len(train_y)))\n",
    "    dtrain = xgb.DMatrix(train_x[:split],label=train_y[:split])\n",
    "    dvalid = xgb.DMatrix(train_x[split:],label=train_y[split:])\n",
    "    watchlist  = [(dtrain,'train'),(dvalid,'valid')]\n",
    "    rvalid={}\n",
    "    bst = xgb.train(param, dtrain, num_round, watchlist, evals_result=rvalid, early_stopping_rounds=stopping)\n",
    "    return(bst,np.array(rvalid['valid']['rmse']))\n"
   ]
  },
  {
   "cell_type": "code",
   "execution_count": 212,
   "metadata": {
    "collapsed": false,
    "deletable": true,
    "editable": true
   },
   "outputs": [],
   "source": [
    "# Строим основные массивы\n",
    "dtrain = xgb.DMatrix(train_x,label=train_y)\n",
    "dtest  = xgb.DMatrix(test_x)"
   ]
  },
  {
   "cell_type": "code",
   "execution_count": null,
   "metadata": {
    "collapsed": false,
    "deletable": true,
    "editable": true
   },
   "outputs": [],
   "source": []
  },
  {
   "cell_type": "code",
   "execution_count": 213,
   "metadata": {
    "collapsed": false,
    "deletable": true,
    "editable": true
   },
   "outputs": [],
   "source": [
    "#dtrainCV = xgb.DMatrix(train_x,label=train_y)\n",
    "train_week_begin = 201400\n",
    "train_week_tail  = 201500\n",
    "train_xx    = train_x[train_x.year_week>=train_week_begin]\n",
    "#train_xx_ll = train_xx.LL; \n",
    "#train_xx = train_xx.drop('LL',axis=1)\n",
    "train_yy    = train_y[train_x.year_week>=train_week_begin]\n",
    "dtrainCV    = xgb.DMatrix(train_xx,label=train_yy)\n",
    "train_xx15  = train_x[train_x.year_week>=train_week_tail]\n",
    "#train_xx15_ll = train_xx15.LL; \n",
    "#train_xx15 = train_xx15.drop('LL',axis=1)\n",
    "train_yy15  = train_y[train_x.year_week>=train_week_tail]\n",
    "dtrainCV2015= xgb.DMatrix(train_xx15,label=train_yy15)"
   ]
  },
  {
   "cell_type": "code",
   "execution_count": 214,
   "metadata": {
    "collapsed": false,
    "deletable": true,
    "editable": true
   },
   "outputs": [
    {
     "name": "stdout",
     "output_type": "stream",
     "text": [
      "[0]\ttrain-rmsle:4.56994+0.000848767\ttest-rmsle:4.57209+0.0115699\n",
      "[10]\ttrain-rmsle:2.23678+0.000466921\ttest-rmsle:2.24236+0.00944316\n",
      "[20]\ttrain-rmsle:1.65224+0.000354961\ttest-rmsle:1.66019+0.0080315\n",
      "[30]\ttrain-rmsle:1.32356+0.000219137\ttest-rmsle:1.33384+0.00665017\n",
      "[40]\ttrain-rmsle:1.10399+0.000294697\ttest-rmsle:1.11688+0.00556754\n",
      "[50]\ttrain-rmsle:0.9454+0.000548148\ttest-rmsle:0.961091+0.0045628\n",
      "[60]\ttrain-rmsle:0.825576+0.000820559\ttest-rmsle:0.844362+0.00381002\n",
      "[70]\ttrain-rmsle:0.732755+0.00116578\ttest-rmsle:0.754717+0.00344692\n",
      "[80]\ttrain-rmsle:0.65963+0.00149866\ttest-rmsle:0.68479+0.00387381\n",
      "[90]\ttrain-rmsle:0.601511+0.0017716\ttest-rmsle:0.62992+0.00467033\n",
      "[100]\ttrain-rmsle:0.555102+0.00203477\ttest-rmsle:0.586693+0.00578898\n",
      "[110]\ttrain-rmsle:0.517795+0.00228163\ttest-rmsle:0.552558+0.00699013\n",
      "[120]\ttrain-rmsle:0.4878+0.00258234\ttest-rmsle:0.525661+0.00827861\n",
      "[130]\ttrain-rmsle:0.463714+0.00288621\ttest-rmsle:0.504472+0.00944455\n",
      "[140]\ttrain-rmsle:0.444296+0.00312845\ttest-rmsle:0.487841+0.0104826\n",
      "[150]\ttrain-rmsle:0.428684+0.00328296\ttest-rmsle:0.474869+0.0114654\n",
      "[160]\ttrain-rmsle:0.415997+0.00342142\ttest-rmsle:0.464753+0.0123974\n",
      "[170]\ttrain-rmsle:0.405906+0.00368089\ttest-rmsle:0.45691+0.0132136\n",
      "[180]\ttrain-rmsle:0.397758+0.00386644\ttest-rmsle:0.45088+0.0139333\n",
      "[190]\ttrain-rmsle:0.391191+0.00401248\ttest-rmsle:0.446283+0.0145142\n",
      "[200]\ttrain-rmsle:0.38583+0.00412203\ttest-rmsle:0.442746+0.0150731\n",
      "[210]\ttrain-rmsle:0.381401+0.0042512\ttest-rmsle:0.440109+0.015548\n",
      "[220]\ttrain-rmsle:0.3778+0.00434487\ttest-rmsle:0.438152+0.0159487\n",
      "[230]\ttrain-rmsle:0.37473+0.00442356\ttest-rmsle:0.436637+0.0163262\n",
      "[240]\ttrain-rmsle:0.372205+0.00441015\ttest-rmsle:0.435549+0.016667\n",
      "[250]\ttrain-rmsle:0.369907+0.00444031\ttest-rmsle:0.434819+0.0169446\n",
      "[260]\ttrain-rmsle:0.368018+0.00445152\ttest-rmsle:0.434296+0.0172354\n",
      "[270]\ttrain-rmsle:0.366269+0.00454025\ttest-rmsle:0.433982+0.0174691\n",
      "[280]\ttrain-rmsle:0.364761+0.00450386\ttest-rmsle:0.433823+0.0176714\n",
      "[290]\ttrain-rmsle:0.363366+0.00458763\ttest-rmsle:0.43372+0.0178465\n",
      "[300]\ttrain-rmsle:0.362015+0.00462696\ttest-rmsle:0.433713+0.0180252\n",
      "[310]\ttrain-rmsle:0.36081+0.004697\ttest-rmsle:0.433775+0.0181133\n"
     ]
    }
   ],
   "source": [
    "param = {'silent':0, 'objective':'reg:linear', 'eta':0.2, 'max_depth':19, 'subsample':0.7, 'colsample_bytree':0.99, 'metrics':'rmse'}\n",
    "##param = {'silent':0, 'objective':'reg:linear', 'eta':0.05, 'max_depth':19, 'subsample':0.7, 'colsample_bytree':0.99, 'metrics':'rmse'}\n",
    "#param = {'silent':0, 'objective':'reg:linear', 'eta':0.02, 'max_depth':12, 'subsample':0.7, 'colsample_bytree':0.99, 'metrics':'rmse'}\n",
    "param = {'silent':0, 'objective':'reg:linear', 'eta':0.02, 'max_depth':15, 'subsample':0.16, 'colsample_bytree':0.9399, 'metrics':'rmse'}\n",
    "#param = {'silent':0, 'objective':'reg:linear', 'eta':0.05, 'max_depth':5, 'subsample':0.7, 'colsample_bytree':0.7, 'metrics':'rmse'}\n",
    "# CV sklearn\n",
    "param = {'silent':0, 'objective':'reg:linear', 'eta':0.01, 'max_depth':9, 'subsample':0.8, 'colsample_bytree':0.8, 'metrics':'rmse'}\n",
    "param = {'silent':0, 'objective':'reg:linear', 'eta':0.01, \n",
    "         'max_depth':9, 'subsample':0.85, 'colsample_bytree':0.8, \n",
    "         'min_child_weight':12.0,\n",
    "         'metrics':'rmse'}\n",
    "history = xgb.cv(param, dtrainCV, verbose_eval=10, metrics=['rmse'],feval=rmsle,num_boost_round=1500,nfold=5,early_stopping_rounds=20) #,stratified=True,maximize=True)"
   ]
  },
  {
   "cell_type": "code",
   "execution_count": 215,
   "metadata": {
    "collapsed": false,
    "deletable": true,
    "editable": true
   },
   "outputs": [
    {
     "name": "stdout",
     "output_type": "stream",
     "text": [
      "[0]\ttrain-rmsle:4.57031\n",
      "[1]\ttrain-rmsle:3.88271\n",
      "[2]\ttrain-rmsle:3.48411\n",
      "[3]\ttrain-rmsle:3.20311\n",
      "[4]\ttrain-rmsle:2.98698\n",
      "[5]\ttrain-rmsle:2.81087\n",
      "[6]\ttrain-rmsle:2.66292\n",
      "[7]\ttrain-rmsle:2.53602\n",
      "[8]\ttrain-rmsle:2.42446\n",
      "[9]\ttrain-rmsle:2.32557\n",
      "[10]\ttrain-rmsle:2.23648\n",
      "[11]\ttrain-rmsle:2.15573\n",
      "[12]\ttrain-rmsle:2.082\n",
      "[13]\ttrain-rmsle:2.01423\n",
      "[14]\ttrain-rmsle:1.95157\n",
      "[15]\ttrain-rmsle:1.89334\n",
      "[16]\ttrain-rmsle:1.83908\n",
      "[17]\ttrain-rmsle:1.78802\n",
      "[18]\ttrain-rmsle:1.74013\n",
      "[19]\ttrain-rmsle:1.69507\n",
      "[20]\ttrain-rmsle:1.6524\n",
      "[21]\ttrain-rmsle:1.612\n",
      "[22]\ttrain-rmsle:1.57363\n",
      "[23]\ttrain-rmsle:1.5372\n",
      "[24]\ttrain-rmsle:1.50251\n",
      "[25]\ttrain-rmsle:1.46934\n",
      "[26]\ttrain-rmsle:1.43768\n",
      "[27]\ttrain-rmsle:1.40743\n",
      "[28]\ttrain-rmsle:1.37846\n",
      "[29]\ttrain-rmsle:1.35065\n",
      "[30]\ttrain-rmsle:1.32397\n",
      "[31]\ttrain-rmsle:1.29819\n",
      "[32]\ttrain-rmsle:1.2734\n",
      "[33]\ttrain-rmsle:1.24955\n",
      "[34]\ttrain-rmsle:1.22663\n",
      "[35]\ttrain-rmsle:1.20442\n",
      "[36]\ttrain-rmsle:1.18301\n",
      "[37]\ttrain-rmsle:1.16231\n",
      "[38]\ttrain-rmsle:1.14238\n",
      "[39]\ttrain-rmsle:1.12308\n",
      "[40]\ttrain-rmsle:1.10442\n",
      "[41]\ttrain-rmsle:1.08628\n",
      "[42]\ttrain-rmsle:1.06876\n",
      "[43]\ttrain-rmsle:1.05178\n",
      "[44]\ttrain-rmsle:1.03531\n",
      "[45]\ttrain-rmsle:1.01934\n",
      "[46]\ttrain-rmsle:1.00383\n",
      "[47]\ttrain-rmsle:0.988804\n",
      "[48]\ttrain-rmsle:0.97419\n",
      "[49]\ttrain-rmsle:0.959965\n",
      "[50]\ttrain-rmsle:0.946108\n",
      "[51]\ttrain-rmsle:0.932686\n",
      "[52]\ttrain-rmsle:0.919681\n",
      "[53]\ttrain-rmsle:0.906999\n",
      "[54]\ttrain-rmsle:0.894611\n",
      "[55]\ttrain-rmsle:0.88258\n",
      "[56]\ttrain-rmsle:0.870846\n",
      "[57]\ttrain-rmsle:0.859409\n",
      "[58]\ttrain-rmsle:0.848282\n",
      "[59]\ttrain-rmsle:0.837419\n",
      "[60]\ttrain-rmsle:0.826857\n",
      "[61]\ttrain-rmsle:0.816543\n",
      "[62]\ttrain-rmsle:0.806533\n",
      "[63]\ttrain-rmsle:0.796769\n",
      "[64]\ttrain-rmsle:0.787221\n",
      "[65]\ttrain-rmsle:0.777894\n",
      "[66]\ttrain-rmsle:0.768841\n",
      "[67]\ttrain-rmsle:0.759973\n",
      "[68]\ttrain-rmsle:0.751323\n",
      "[69]\ttrain-rmsle:0.742839\n",
      "[70]\ttrain-rmsle:0.734577\n",
      "[71]\ttrain-rmsle:0.726498\n",
      "[72]\ttrain-rmsle:0.71862\n",
      "[73]\ttrain-rmsle:0.710912\n",
      "[74]\ttrain-rmsle:0.703389\n",
      "[75]\ttrain-rmsle:0.696023\n",
      "[76]\ttrain-rmsle:0.688852\n",
      "[77]\ttrain-rmsle:0.681879\n",
      "[78]\ttrain-rmsle:0.675026\n",
      "[79]\ttrain-rmsle:0.668334\n",
      "[80]\ttrain-rmsle:0.661803\n",
      "[81]\ttrain-rmsle:0.655424\n",
      "[82]\ttrain-rmsle:0.649209\n",
      "[83]\ttrain-rmsle:0.643136\n",
      "[84]\ttrain-rmsle:0.637186\n",
      "[85]\ttrain-rmsle:0.631338\n",
      "[86]\ttrain-rmsle:0.625715\n",
      "[87]\ttrain-rmsle:0.62015\n",
      "[88]\ttrain-rmsle:0.614717\n",
      "[89]\ttrain-rmsle:0.609391\n",
      "[90]\ttrain-rmsle:0.604177\n",
      "[91]\ttrain-rmsle:0.59909\n",
      "[92]\ttrain-rmsle:0.594129\n",
      "[93]\ttrain-rmsle:0.589252\n",
      "[94]\ttrain-rmsle:0.584478\n",
      "[95]\ttrain-rmsle:0.579803\n",
      "[96]\ttrain-rmsle:0.57527\n",
      "[97]\ttrain-rmsle:0.570801\n",
      "[98]\ttrain-rmsle:0.566482\n",
      "[99]\ttrain-rmsle:0.562256\n",
      "[100]\ttrain-rmsle:0.558102\n",
      "[101]\ttrain-rmsle:0.554021\n",
      "[102]\ttrain-rmsle:0.550031\n",
      "[103]\ttrain-rmsle:0.546113\n",
      "[104]\ttrain-rmsle:0.542317\n",
      "[105]\ttrain-rmsle:0.538547\n",
      "[106]\ttrain-rmsle:0.534874\n",
      "[107]\ttrain-rmsle:0.531286\n",
      "[108]\ttrain-rmsle:0.527811\n",
      "[109]\ttrain-rmsle:0.524388\n",
      "[110]\ttrain-rmsle:0.521014\n",
      "[111]\ttrain-rmsle:0.517694\n",
      "[112]\ttrain-rmsle:0.514468\n",
      "[113]\ttrain-rmsle:0.511355\n",
      "[114]\ttrain-rmsle:0.508251\n",
      "[115]\ttrain-rmsle:0.505292\n",
      "[116]\ttrain-rmsle:0.502323\n",
      "[117]\ttrain-rmsle:0.499533\n",
      "[118]\ttrain-rmsle:0.496728\n",
      "[119]\ttrain-rmsle:0.494079\n",
      "[120]\ttrain-rmsle:0.491453\n",
      "[121]\ttrain-rmsle:0.488851\n",
      "[122]\ttrain-rmsle:0.486274\n",
      "[123]\ttrain-rmsle:0.483746\n",
      "[124]\ttrain-rmsle:0.48127\n",
      "[125]\ttrain-rmsle:0.478812\n",
      "[126]\ttrain-rmsle:0.476471\n",
      "[127]\ttrain-rmsle:0.474159\n",
      "[128]\ttrain-rmsle:0.471952\n",
      "[129]\ttrain-rmsle:0.469795\n",
      "[130]\ttrain-rmsle:0.467611\n",
      "[131]\ttrain-rmsle:0.46553\n",
      "[132]\ttrain-rmsle:0.463531\n",
      "[133]\ttrain-rmsle:0.46152\n",
      "[134]\ttrain-rmsle:0.459504\n",
      "[135]\ttrain-rmsle:0.457588\n",
      "[136]\ttrain-rmsle:0.455695\n",
      "[137]\ttrain-rmsle:0.453829\n",
      "[138]\ttrain-rmsle:0.451999\n",
      "[139]\ttrain-rmsle:0.450253\n",
      "[140]\ttrain-rmsle:0.448558\n",
      "[141]\ttrain-rmsle:0.446855\n",
      "[142]\ttrain-rmsle:0.445284\n",
      "[143]\ttrain-rmsle:0.443635\n",
      "[144]\ttrain-rmsle:0.44208\n",
      "[145]\ttrain-rmsle:0.440521\n",
      "[146]\ttrain-rmsle:0.439047\n",
      "[147]\ttrain-rmsle:0.437552\n",
      "[148]\ttrain-rmsle:0.436103\n",
      "[149]\ttrain-rmsle:0.434727\n",
      "[150]\ttrain-rmsle:0.433305\n",
      "[151]\ttrain-rmsle:0.431973\n",
      "[152]\ttrain-rmsle:0.43066\n",
      "[153]\ttrain-rmsle:0.429328\n",
      "[154]\ttrain-rmsle:0.428076\n",
      "[155]\ttrain-rmsle:0.426799\n",
      "[156]\ttrain-rmsle:0.425581\n",
      "[157]\ttrain-rmsle:0.424419\n",
      "[158]\ttrain-rmsle:0.423322\n",
      "[159]\ttrain-rmsle:0.422186\n",
      "[160]\ttrain-rmsle:0.421013\n",
      "[161]\ttrain-rmsle:0.419937\n",
      "[162]\ttrain-rmsle:0.418836\n",
      "[163]\ttrain-rmsle:0.417732\n",
      "[164]\ttrain-rmsle:0.416744\n",
      "[165]\ttrain-rmsle:0.415722\n",
      "[166]\ttrain-rmsle:0.41477\n",
      "[167]\ttrain-rmsle:0.413795\n",
      "[168]\ttrain-rmsle:0.412842\n",
      "[169]\ttrain-rmsle:0.412012\n",
      "[170]\ttrain-rmsle:0.411149\n",
      "[171]\ttrain-rmsle:0.410289\n",
      "[172]\ttrain-rmsle:0.409462\n",
      "[173]\ttrain-rmsle:0.408648\n",
      "[174]\ttrain-rmsle:0.407904\n",
      "[175]\ttrain-rmsle:0.407131\n",
      "[176]\ttrain-rmsle:0.406333\n",
      "[177]\ttrain-rmsle:0.405582\n",
      "[178]\ttrain-rmsle:0.404809\n",
      "[179]\ttrain-rmsle:0.404171\n",
      "[180]\ttrain-rmsle:0.403551\n",
      "[181]\ttrain-rmsle:0.402954\n",
      "[182]\ttrain-rmsle:0.402255\n",
      "[183]\ttrain-rmsle:0.401584\n",
      "[184]\ttrain-rmsle:0.400885\n",
      "[185]\ttrain-rmsle:0.400207\n",
      "[186]\ttrain-rmsle:0.399548\n",
      "[187]\ttrain-rmsle:0.398912\n",
      "[188]\ttrain-rmsle:0.398297\n",
      "[189]\ttrain-rmsle:0.397698\n",
      "[190]\ttrain-rmsle:0.397112\n",
      "[191]\ttrain-rmsle:0.396523\n",
      "[192]\ttrain-rmsle:0.396046\n",
      "[193]\ttrain-rmsle:0.395554\n",
      "[194]\ttrain-rmsle:0.394964\n",
      "[195]\ttrain-rmsle:0.394432\n",
      "[196]\ttrain-rmsle:0.393983\n",
      "[197]\ttrain-rmsle:0.393444\n",
      "[198]\ttrain-rmsle:0.392926\n",
      "[199]\ttrain-rmsle:0.392397\n",
      "[200]\ttrain-rmsle:0.391961\n",
      "[201]\ttrain-rmsle:0.391487\n",
      "[202]\ttrain-rmsle:0.39105\n",
      "[203]\ttrain-rmsle:0.39061\n",
      "[204]\ttrain-rmsle:0.390148\n",
      "[205]\ttrain-rmsle:0.389712\n",
      "[206]\ttrain-rmsle:0.389267\n",
      "[207]\ttrain-rmsle:0.388867\n",
      "[208]\ttrain-rmsle:0.388415\n",
      "[209]\ttrain-rmsle:0.387982\n",
      "[210]\ttrain-rmsle:0.387621\n",
      "[211]\ttrain-rmsle:0.387286\n",
      "[212]\ttrain-rmsle:0.386892\n",
      "[213]\ttrain-rmsle:0.386582\n",
      "[214]\ttrain-rmsle:0.386212\n",
      "[215]\ttrain-rmsle:0.38584\n",
      "[216]\ttrain-rmsle:0.385456\n",
      "[217]\ttrain-rmsle:0.385087\n",
      "[218]\ttrain-rmsle:0.384714\n",
      "[219]\ttrain-rmsle:0.384362\n",
      "[220]\ttrain-rmsle:0.384046\n",
      "[221]\ttrain-rmsle:0.383781\n",
      "[222]\ttrain-rmsle:0.383518\n",
      "[223]\ttrain-rmsle:0.38318\n",
      "[224]\ttrain-rmsle:0.382816\n",
      "[225]\ttrain-rmsle:0.382529\n",
      "[226]\ttrain-rmsle:0.382235\n",
      "[227]\ttrain-rmsle:0.382036\n",
      "[228]\ttrain-rmsle:0.381759\n",
      "[229]\ttrain-rmsle:0.381448\n",
      "[230]\ttrain-rmsle:0.381137\n",
      "[231]\ttrain-rmsle:0.380872\n",
      "[232]\ttrain-rmsle:0.380613\n",
      "[233]\ttrain-rmsle:0.38037\n",
      "[234]\ttrain-rmsle:0.380087\n",
      "[235]\ttrain-rmsle:0.379919\n",
      "[236]\ttrain-rmsle:0.379691\n",
      "[237]\ttrain-rmsle:0.379495\n",
      "[238]\ttrain-rmsle:0.379166\n",
      "[239]\ttrain-rmsle:0.378953\n",
      "[240]\ttrain-rmsle:0.378747\n",
      "[241]\ttrain-rmsle:0.37854\n",
      "[242]\ttrain-rmsle:0.37834\n",
      "[243]\ttrain-rmsle:0.378118\n",
      "[244]\ttrain-rmsle:0.377903\n",
      "[245]\ttrain-rmsle:0.377647\n",
      "[246]\ttrain-rmsle:0.37744\n",
      "[247]\ttrain-rmsle:0.37723\n",
      "[248]\ttrain-rmsle:0.377086\n",
      "[249]\ttrain-rmsle:0.376868\n",
      "[250]\ttrain-rmsle:0.376657\n",
      "[251]\ttrain-rmsle:0.376505\n",
      "[252]\ttrain-rmsle:0.376345\n",
      "[253]\ttrain-rmsle:0.376172\n",
      "[254]\ttrain-rmsle:0.375956\n",
      "[255]\ttrain-rmsle:0.37581\n",
      "[256]\ttrain-rmsle:0.375591\n",
      "[257]\ttrain-rmsle:0.375461\n",
      "[258]\ttrain-rmsle:0.375258\n",
      "[259]\ttrain-rmsle:0.375049\n",
      "[260]\ttrain-rmsle:0.374866\n",
      "[261]\ttrain-rmsle:0.37464\n",
      "[262]\ttrain-rmsle:0.374492\n",
      "[263]\ttrain-rmsle:0.374326\n",
      "[264]\ttrain-rmsle:0.374177\n",
      "[265]\ttrain-rmsle:0.374\n",
      "[266]\ttrain-rmsle:0.373831\n",
      "[267]\ttrain-rmsle:0.373716\n",
      "[268]\ttrain-rmsle:0.373572\n",
      "[269]\ttrain-rmsle:0.373357\n",
      "[270]\ttrain-rmsle:0.373198\n",
      "[271]\ttrain-rmsle:0.373031\n",
      "[272]\ttrain-rmsle:0.372874\n",
      "[273]\ttrain-rmsle:0.372694\n",
      "[274]\ttrain-rmsle:0.372544\n",
      "[275]\ttrain-rmsle:0.372376\n",
      "[276]\ttrain-rmsle:0.372147\n",
      "[277]\ttrain-rmsle:0.371998\n",
      "[278]\ttrain-rmsle:0.371893\n",
      "[279]\ttrain-rmsle:0.371773\n",
      "[280]\ttrain-rmsle:0.37162\n",
      "[281]\ttrain-rmsle:0.371476\n",
      "[282]\ttrain-rmsle:0.371377\n",
      "[283]\ttrain-rmsle:0.371202\n",
      "[284]\ttrain-rmsle:0.371056\n",
      "[285]\ttrain-rmsle:0.370963\n",
      "[286]\ttrain-rmsle:0.370863\n",
      "[287]\ttrain-rmsle:0.37074\n",
      "[288]\ttrain-rmsle:0.370697\n",
      "[289]\ttrain-rmsle:0.370575\n",
      "[290]\ttrain-rmsle:0.370416\n",
      "[291]\ttrain-rmsle:0.370308\n",
      "[292]\ttrain-rmsle:0.370194\n",
      "[293]\ttrain-rmsle:0.370049\n",
      "[294]\ttrain-rmsle:0.369945\n",
      "[295]\ttrain-rmsle:0.369841\n",
      "[296]\ttrain-rmsle:0.369725\n",
      "[297]\ttrain-rmsle:0.369631\n",
      "[298]\ttrain-rmsle:0.369522\n",
      "[299]\ttrain-rmsle:0.369443\n",
      "[300]\ttrain-rmsle:0.369311\n"
     ]
    }
   ],
   "source": [
    "watchlistCV  = [(dtrainCV,'train')]\n",
    "rvalidCV = {}\n",
    "bstCV = xgb.train(param, dtrainCV, history['test-rmsle-mean'].argmin()+2, watchlistCV, evals_result=rvalidCV, feval=rmsle)\n",
    "##bstCV = xgb.train(param, dtrainCV, history['test-rmse-mean'].argmin()+2, watchlistCV, evals_result=rvalidCV)\n",
    "\n",
    "train_cv = bstCV.predict(dtrainCV)\n",
    "train_cv = np.abs(train_cv)\n",
    "_,train_rmsle_CV     = rmsle(train_cv,dtrainCV)\n",
    "\n",
    "train_cv_tail = bstCV.predict(dtrainCV2015)\n",
    "train_cv_tail = np.abs(train_cv_tail)\n",
    "_,train_rmsle_CV2015 = rmsle(train_cv_tail,dtrainCV2015)\n",
    "\n",
    "if False :\n",
    "    bst, rvalid_log = xgbtrain(param, train_x, train_y, num_round=1800, stopping=30, ratio=0.9)\n",
    "\n",
    "    train_cv = bst.predict(dtrainCV,ntree_limit=rvalid_log.argmin())\n",
    "    train_cv = np.abs(train_cv)\n",
    "    _,train_rmsle = rmsle(train_cv,dtrainCV)"
   ]
  },
  {
   "cell_type": "code",
   "execution_count": null,
   "metadata": {
    "collapsed": false,
    "deletable": true,
    "editable": true
   },
   "outputs": [],
   "source": []
  },
  {
   "cell_type": "code",
   "execution_count": 216,
   "metadata": {
    "collapsed": false,
    "deletable": true,
    "editable": true
   },
   "outputs": [
    {
     "name": "stdout",
     "output_type": "stream",
     "text": [
      " cv=0.4337102, er=0.369311451912, er-tail=0.325571119785,\n",
      " R2=0.695459425393, R2(tail)=0.729794796703,\n",
      " mae=21398.9023438, mae-tail=20776.2324219,\n",
      " mse=30972.109375, mse-tail=29828.0488281\n"
     ]
    }
   ],
   "source": [
    "import sklearn.metrics as skme\n",
    "#print(history['test-rmsle-mean'].min(),history['test-rmsle-mean'].argmin(),history['train-rmsle-mean'][history['test-rmsle-mean'].argmin()])\n",
    "print ' cv={}, er={}, er-tail={},\\n R2={}, R2(tail)={},\\n mae={}, mae-tail={},\\n mse={}, mse-tail={}'.format(history['test-rmsle-mean'].min(),train_rmsle_CV, train_rmsle_CV2015, \n",
    "                                                                    skme.r2_score(dtrainCV.get_label(),train_cv), \n",
    "                                                                    skme.r2_score(dtrainCV2015.get_label(),train_cv_tail),\n",
    "                                                                    skme.mean_absolute_error(dtrainCV.get_label(),train_cv),\n",
    "                                                                    skme.mean_absolute_error(dtrainCV2015.get_label(),train_cv_tail),\n",
    "                                                                    np.sqrt(skme.mean_squared_error(dtrainCV.get_label(),train_cv)),\n",
    "                                                                    np.sqrt(skme.mean_squared_error(dtrainCV2015.get_label(),train_cv_tail))\n",
    "                                                                   )\n",
    "#plt.plot(history['test-rmsle-mean']); plt.show()"
   ]
  },
  {
   "cell_type": "code",
   "execution_count": 201,
   "metadata": {
    "collapsed": false,
    "deletable": true,
    "editable": true
   },
   "outputs": [
    {
     "name": "stdout",
     "output_type": "stream",
     "text": [
      " cv=0.4337324, er=0.367599070072, er-tail=0.324255675077,\n",
      " R2=0.698124296937, R2(tail)=0.73023542071,\n",
      " mae=21589.5117188, mae-tail=21015.9316406,\n",
      " mse=30836.3007812, mse-tail=29803.7167969\n"
     ]
    }
   ],
   "source": [
    "import sklearn.metrics as skme\n",
    "#print(history['test-rmsle-mean'].min(),history['test-rmsle-mean'].argmin(),history['train-rmsle-mean'][history['test-rmsle-mean'].argmin()])\n",
    "print ' cv={}, er={}, er-tail={},\\n R2={}, R2(tail)={},\\n mae={}, mae-tail={},\\n mse={}, mse-tail={}'.format(history['test-rmsle-mean'].min(),train_rmsle_CV, train_rmsle_CV2015, \n",
    "                                                                    skme.r2_score(dtrainCV.get_label(),train_cv), \n",
    "                                                                    skme.r2_score(dtrainCV2015.get_label(),train_cv_tail),\n",
    "                                                                    skme.mean_absolute_error(dtrainCV.get_label(),train_cv),\n",
    "                                                                    skme.mean_absolute_error(dtrainCV2015.get_label(),train_cv_tail),\n",
    "                                                                    np.sqrt(skme.mean_squared_error(dtrainCV.get_label(),train_cv)),\n",
    "                                                                    np.sqrt(skme.mean_squared_error(dtrainCV2015.get_label(),train_cv_tail))\n",
    "                                                                   )\n",
    "#plt.plot(history['test-rmsle-mean']); plt.show()"
   ]
  },
  {
   "cell_type": "code",
   "execution_count": 35,
   "metadata": {
    "collapsed": false,
    "deletable": true,
    "editable": true
   },
   "outputs": [
    {
     "name": "stdout",
     "output_type": "stream",
     "text": [
      " cv=0.434347, er=0.340219855309, er-tail=0.299397110939,\n",
      " R2=0.741306929397, R2(tail)=0.760599530366,\n",
      " mae=20416.2148438, mae-tail=20219.1464844,\n",
      " mse=28545.6933594, mse-tail=28076.3398438\n"
     ]
    },
    {
     "data": {
      "image/png": "[encoded data removed]",
      "text/plain": [
       "<matplotlib.figure.Figure at 0x7f34f3698610>"
      ]
     },
     "metadata": {},
     "output_type": "display_data"
    }
   ],
   "source": [
    "import sklearn.metrics as skme\n",
    "#print(history['test-rmsle-mean'].min(),history['test-rmsle-mean'].argmin(),history['train-rmsle-mean'][history['test-rmsle-mean'].argmin()])\n",
    "print ' cv={}, er={}, er-tail={},\\n R2={}, R2(tail)={},\\n mae={}, mae-tail={},\\n mse={}, mse-tail={}'.format(history['test-rmsle-mean'].min(),train_rmsle_CV, train_rmsle_CV2015, \n",
    "                                                                    skme.r2_score(dtrainCV.get_label(),train_cv), \n",
    "                                                                    skme.r2_score(dtrainCV2015.get_label(),train_cv_tail),\n",
    "                                                                    skme.mean_absolute_error(dtrainCV.get_label(),train_cv),\n",
    "                                                                    skme.mean_absolute_error(dtrainCV2015.get_label(),train_cv_tail),\n",
    "                                                                    np.sqrt(skme.mean_squared_error(dtrainCV.get_label(),train_cv)),\n",
    "                                                                    np.sqrt(skme.mean_squared_error(dtrainCV2015.get_label(),train_cv_tail))\n",
    "                                                                   )\n",
    "plt.plot(history['test-rmsle-mean']); plt.show()"
   ]
  },
  {
   "cell_type": "code",
   "execution_count": 216,
   "metadata": {
    "collapsed": false,
    "deletable": true,
    "editable": true
   },
   "outputs": [
    {
     "name": "stdout",
     "output_type": "stream",
     "text": [
      "123))\n"
     ]
    }
   ],
   "source": [
    "print '%s))' % '123'"
   ]
  },
  {
   "cell_type": "code",
   "execution_count": 56,
   "metadata": {
    "collapsed": false,
    "deletable": true,
    "editable": true
   },
   "outputs": [
    {
     "name": "stdout",
     "output_type": "stream",
     "text": [
      "(16901, 307) (16901, 1)\n",
      "Fitting 5 folds for each of 3 candidates, totalling 15 fits\n",
      "[CV] subsample=0.85, colsample_bytree=0.8, max_depth=9, min_child_weight=11.0 \n",
      "[CV]  subsample=0.85, colsample_bytree=0.8, max_depth=9, min_child_weight=11.0, score=-0.594102, total=   9.9s\n",
      "[CV] subsample=0.85, colsample_bytree=0.8, max_depth=9, min_child_weight=11.0 \n"
     ]
    },
    {
     "name": "stderr",
     "output_type": "stream",
     "text": [
      "[Parallel(n_jobs=1)]: Done   1 out of   1 | elapsed:   10.5s remaining:    0.0s\n"
     ]
    },
    {
     "name": "stdout",
     "output_type": "stream",
     "text": [
      "[CV]  subsample=0.85, colsample_bytree=0.8, max_depth=9, min_child_weight=11.0, score=-0.605000, total=  10.0s\n",
      "[CV] subsample=0.85, colsample_bytree=0.8, max_depth=9, min_child_weight=11.0 \n"
     ]
    },
    {
     "name": "stderr",
     "output_type": "stream",
     "text": [
      "[Parallel(n_jobs=1)]: Done   2 out of   2 | elapsed:   21.0s remaining:    0.0s\n"
     ]
    },
    {
     "name": "stdout",
     "output_type": "stream",
     "text": [
      "[CV]  subsample=0.85, colsample_bytree=0.8, max_depth=9, min_child_weight=11.0, score=-0.600351, total=  10.0s\n",
      "[CV] subsample=0.85, colsample_bytree=0.8, max_depth=9, min_child_weight=11.0 \n",
      "[CV]  subsample=0.85, colsample_bytree=0.8, max_depth=9, min_child_weight=11.0, score=-0.573735, total=  10.0s\n",
      "[CV] subsample=0.85, colsample_bytree=0.8, max_depth=9, min_child_weight=11.0 \n",
      "[CV]  subsample=0.85, colsample_bytree=0.8, max_depth=9, min_child_weight=11.0, score=-0.574877, total=  10.0s\n",
      "[CV] subsample=0.85, colsample_bytree=0.8, max_depth=9, min_child_weight=12.0 \n",
      "[CV]  subsample=0.85, colsample_bytree=0.8, max_depth=9, min_child_weight=12.0, score=-0.592932, total=   9.9s\n",
      "[CV] subsample=0.85, colsample_bytree=0.8, max_depth=9, min_child_weight=12.0 \n",
      "[CV]  subsample=0.85, colsample_bytree=0.8, max_depth=9, min_child_weight=12.0, score=-0.604719, total=  10.0s\n",
      "[CV] subsample=0.85, colsample_bytree=0.8, max_depth=9, min_child_weight=12.0 \n",
      "[CV]  subsample=0.85, colsample_bytree=0.8, max_depth=9, min_child_weight=12.0, score=-0.598963, total=  10.3s\n",
      "[CV] subsample=0.85, colsample_bytree=0.8, max_depth=9, min_child_weight=12.0 \n",
      "[CV]  subsample=0.85, colsample_bytree=0.8, max_depth=9, min_child_weight=12.0, score=-0.573229, total=  10.0s\n",
      "[CV] subsample=0.85, colsample_bytree=0.8, max_depth=9, min_child_weight=12.0 \n",
      "[CV]  subsample=0.85, colsample_bytree=0.8, max_depth=9, min_child_weight=12.0, score=-0.573588, total=  10.0s\n",
      "[CV] subsample=0.85, colsample_bytree=0.8, max_depth=9, min_child_weight=13.0 \n",
      "[CV]  subsample=0.85, colsample_bytree=0.8, max_depth=9, min_child_weight=13.0, score=-0.594278, total=   9.9s\n",
      "[CV] subsample=0.85, colsample_bytree=0.8, max_depth=9, min_child_weight=13.0 \n",
      "[CV]  subsample=0.85, colsample_bytree=0.8, max_depth=9, min_child_weight=13.0, score=-0.603943, total=  10.0s\n",
      "[CV] subsample=0.85, colsample_bytree=0.8, max_depth=9, min_child_weight=13.0 \n",
      "[CV]  subsample=0.85, colsample_bytree=0.8, max_depth=9, min_child_weight=13.0, score=-0.599038, total=   9.9s\n",
      "[CV] subsample=0.85, colsample_bytree=0.8, max_depth=9, min_child_weight=13.0 \n",
      "[CV]  subsample=0.85, colsample_bytree=0.8, max_depth=9, min_child_weight=13.0, score=-0.573575, total=  10.0s\n",
      "[CV] subsample=0.85, colsample_bytree=0.8, max_depth=9, min_child_weight=13.0 \n",
      "[CV]  subsample=0.85, colsample_bytree=0.8, max_depth=9, min_child_weight=13.0, score=-0.576274, total=  10.0s\n"
     ]
    },
    {
     "name": "stderr",
     "output_type": "stream",
     "text": [
      "[Parallel(n_jobs=1)]: Done  15 out of  15 | elapsed:  2.7min finished\n",
      "/home/boba/anaconda2/envs/tensorflow-gpu/lib/python2.7/site-packages/sklearn/model_selection/_search.py:667: DeprecationWarning: The grid_scores_ attribute was deprecated in version 0.18 in favor of the more elaborate cv_results_ attribute. The grid_scores_ attribute will not be available from 0.20\n",
      "  DeprecationWarning)\n"
     ]
    },
    {
     "data": {
      "text/plain": [
       "([mean: -0.58961, std: 0.01297, params: {'subsample': 0.85, 'colsample_bytree': 0.8, 'max_depth': 9, 'min_child_weight': 11.0},\n",
       "  mean: -0.58869, std: 0.01302, params: {'subsample': 0.85, 'colsample_bytree': 0.8, 'max_depth': 9, 'min_child_weight': 12.0},\n",
       "  mean: -0.58942, std: 0.01226, params: {'subsample': 0.85, 'colsample_bytree': 0.8, 'max_depth': 9, 'min_child_weight': 13.0}],\n",
       " {'colsample_bytree': 0.8,\n",
       "  'max_depth': 9,\n",
       "  'min_child_weight': 12.0,\n",
       "  'subsample': 0.85},\n",
       " -0.5886864544237006)"
      ]
     },
     "execution_count": 56,
     "metadata": {},
     "output_type": "execute_result"
    }
   ],
   "source": [
    "import sklearn.metrics as skme\n",
    "import sklearn.model_selection as skms\n",
    "\n",
    "#cvtest_param  = {'max_depth':range(5,19,2),'subsample':[0.3,0.5,0.7,0.8], 'colsample_bytree':[0.6,0.7,0.8,0.9,0.99]}\n",
    "cvtest_param  = {'max_depth':[9],'subsample':[0.725,0.75,0.775,0.8,0.825,0.85,0.875], 'colsample_bytree':[0.8]}\n",
    "cvtest_param  = {'max_depth':[9],'subsample':[0.85], 'colsample_bytree':[0.725,0.75,0.775,0.8,0.825,0.85,0.875]}\n",
    "cvtest_param  = {'max_depth':[9],'subsample':[0.85], 'colsample_bytree':[0.8],\n",
    "                 #'tree_method':['exact'],\n",
    "                 'min_child_weight':[float(i) for i in range(11,14,1)]}\n",
    "\n",
    "rmsleScorer   = skme.make_scorer(rmsleSK)\n",
    "cvtest_search = skms.GridSearchCV(estimator = xgb.XGBRegressor( learning_rate=0.05, n_estimators=200), \n",
    "                                  param_grid = cvtest_param, n_jobs=1, cv=5, verbose=3, scoring=rmsleScorer)\n",
    "print train_xx.shape, train_yy.shape\n",
    "#cvtest_search.fit(train_xx,train_yy,eval_metric=[rmsle],early_stopping_rounds=20)\n",
    "cvtest_search.fit(train_xx,train_yy.values)\n",
    "cvtest_search.grid_scores_, cvtest_search.best_params_, cvtest_search.best_score_"
   ]
  },
  {
   "cell_type": "code",
   "execution_count": 57,
   "metadata": {
    "collapsed": false,
    "deletable": true,
    "editable": true
   },
   "outputs": [
    {
     "data": {
      "text/plain": [
       "XGBRegressor(base_score=0.5, colsample_bylevel=1, colsample_bytree=0.8,\n",
       "       gamma=0, learning_rate=0.05, max_delta_step=0, max_depth=9,\n",
       "       min_child_weight=12.0, missing=None, n_estimators=200, nthread=-1,\n",
       "       objective='reg:linear', reg_alpha=0, reg_lambda=1,\n",
       "       scale_pos_weight=1, seed=0, silent=True, subsample=0.85)"
      ]
     },
     "execution_count": 57,
     "metadata": {},
     "output_type": "execute_result"
    }
   ],
   "source": [
    "cvtest_search.best_estimator_"
   ]
  },
  {
   "cell_type": "code",
   "execution_count": null,
   "metadata": {
    "collapsed": false,
    "deletable": true,
    "editable": true,
    "scrolled": true
   },
   "outputs": [],
   "source": []
  },
  {
   "cell_type": "code",
   "execution_count": null,
   "metadata": {
    "collapsed": true,
    "deletable": true,
    "editable": true
   },
   "outputs": [],
   "source": []
  },
  {
   "cell_type": "code",
   "execution_count": 217,
   "metadata": {
    "collapsed": true,
    "deletable": true,
    "editable": true
   },
   "outputs": [],
   "source": [
    "###############################################################"
   ]
  },
  {
   "cell_type": "code",
   "execution_count": 218,
   "metadata": {
    "collapsed": true,
    "deletable": true,
    "editable": true
   },
   "outputs": [],
   "source": [
    "# Строим результат"
   ]
  },
  {
   "cell_type": "code",
   "execution_count": 219,
   "metadata": {
    "collapsed": false,
    "deletable": true,
    "editable": true
   },
   "outputs": [],
   "source": [
    "#test_x_ll = test_x.LL; test_x = test_x.drop('LL',axis=1)\n",
    "dtest = xgb.DMatrix(test_x)\n",
    "#test_p = bst.predict(dtest,ntree_limit=rvalid_log.argmin())\n",
    "test_p = bstCV.predict(dtest)\n",
    "#test_p = bst.predict(dtest)\n",
    "test_p = np.abs(test_p)\n",
    "#test_x['LL'] = test_x_ll"
   ]
  },
  {
   "cell_type": "code",
   "execution_count": null,
   "metadata": {
    "collapsed": false,
    "deletable": true,
    "editable": true
   },
   "outputs": [],
   "source": []
  },
  {
   "cell_type": "code",
   "execution_count": 220,
   "metadata": {
    "collapsed": false,
    "deletable": true,
    "editable": true,
    "scrolled": true
   },
   "outputs": [
    {
     "name": "stdout",
     "output_type": "stream",
     "text": [
      "268933.0 94084858.5625 100000 111111112\n"
     ]
    },
    {
     "data": {
      "text/html": [
       "<div>\n",
       "<table border=\"1\" class=\"dataframe\">\n",
       "  <thead>\n",
       "    <tr style=\"text-align: right;\">\n",
       "      <th></th>\n",
       "      <th>id</th>\n",
       "      <th>price_doc</th>\n",
       "    </tr>\n",
       "  </thead>\n",
       "  <tbody>\n",
       "    <tr>\n",
       "      <th>0</th>\n",
       "      <td>30474</td>\n",
       "      <td>5.187604e+06</td>\n",
       "    </tr>\n",
       "    <tr>\n",
       "      <th>1</th>\n",
       "      <td>30475</td>\n",
       "      <td>8.434172e+06</td>\n",
       "    </tr>\n",
       "    <tr>\n",
       "      <th>2</th>\n",
       "      <td>30476</td>\n",
       "      <td>5.332646e+06</td>\n",
       "    </tr>\n",
       "    <tr>\n",
       "      <th>3</th>\n",
       "      <td>30477</td>\n",
       "      <td>5.991378e+06</td>\n",
       "    </tr>\n",
       "    <tr>\n",
       "      <th>4</th>\n",
       "      <td>30478</td>\n",
       "      <td>5.023620e+06</td>\n",
       "    </tr>\n",
       "    <tr>\n",
       "      <th>5</th>\n",
       "      <td>30479</td>\n",
       "      <td>8.835181e+06</td>\n",
       "    </tr>\n",
       "    <tr>\n",
       "      <th>6</th>\n",
       "      <td>30480</td>\n",
       "      <td>4.278126e+06</td>\n",
       "    </tr>\n",
       "    <tr>\n",
       "      <th>7</th>\n",
       "      <td>30481</td>\n",
       "      <td>4.219877e+06</td>\n",
       "    </tr>\n",
       "  </tbody>\n",
       "</table>\n",
       "</div>"
      ],
      "text/plain": [
       "      id     price_doc\n",
       "0  30474  5.187604e+06\n",
       "1  30475  8.434172e+06\n",
       "2  30476  5.332646e+06\n",
       "3  30477  5.991378e+06\n",
       "4  30478  5.023620e+06\n",
       "5  30479  8.835181e+06\n",
       "6  30480  4.278126e+06\n",
       "7  30481  4.219877e+06"
      ]
     },
     "execution_count": 220,
     "metadata": {},
     "output_type": "execute_result"
    }
   ],
   "source": [
    "test_r = pd.DataFrame(ttest[['id']]); \n",
    "##test_r['price_doc']=np.expm1(test_p)*(test_x.full_sq+1)*test_x.usdrub # 2017-06-02 LB = 0.54\n",
    "##test_r['price_doc'] = test_p*(test_x.full_sq+1)*test_x.usdrub; # 2017-06-02 LB = 0.361\n",
    "##test_r['price_doc'] = test_p*(test_x.full_sq+1); # 2017-06-02 LB = 0.41066\n",
    "##test_r['price_doc'] = test_p*(test_x.life_sq+1)*test_x.usdrub; # 2017-06-02 LB = 0.39\n",
    "\n",
    "#test_r['price_doc'] = test_p*test_x.life0*test_x.usdrub; # 2017-06-02 LB = 0.37543\n",
    "#test_r['price_doc'] = test_p*ttest.full0*ttest.usdrub; # 2017-06-02 LB = 0.37296\n",
    "#test_r['price_doc'] = test_p # 2017-06-21 LB = 0.31954\n",
    "#test_r['price_doc'] = test_p*test_x.life0 # 2017-06-24 LB = 0.31770 \n",
    "#test_r['price_doc'] = test_p*ttest.full0/ttest['life:full'] # 2017-06-22 LB = 0.34990 ????\n",
    "#test_r['price_doc'] = test_p*testUsdEur.full0*testUsdEur.usdrub # 2017-06-22 LB = 0.34990 ????\n",
    "\n",
    "test_r['price_doc'] = test_p*testUsdEur.full0 # 2017-06-25 LB = 0.31640\n",
    "##test_r['price_doc'] = test_p*(testUsdEur.full0+testUsdEur.life0)/2 # 2017-06-25 LB = 0.31726 (worst) \n",
    "##test_r['price_doc'] = test_p*testUsdEur.full0/ttest['life:full'] # 2017-06-25 LB = 0.31991\n",
    "#test_r['price_doc'] = test_p*testUsdEur.full0*test_x.LL # 2017-06-26 LB >0.32\n",
    "\n",
    "print test_r.price_doc.min(),test_r.price_doc.max(),train.price_doc.min(),train.price_doc.max() \n",
    "test_r.head(8)\n",
    "#test_r.tail(8)\n",
    "#test_r.shape"
   ]
  },
  {
   "cell_type": "code",
   "execution_count": 221,
   "metadata": {
    "collapsed": false,
    "deletable": true,
    "editable": true
   },
   "outputs": [
    {
     "data": {
      "text/html": [
       "<div>\n",
       "<table border=\"1\" class=\"dataframe\">\n",
       "  <thead>\n",
       "    <tr style=\"text-align: right;\">\n",
       "      <th></th>\n",
       "      <th>timestamp</th>\n",
       "      <th>id</th>\n",
       "      <th>full_sq</th>\n",
       "      <th>life_sq</th>\n",
       "      <th>floor</th>\n",
       "      <th>max_floor</th>\n",
       "      <th>material</th>\n",
       "      <th>build_year</th>\n",
       "      <th>num_room</th>\n",
       "      <th>kitch_sq</th>\n",
       "      <th>...</th>\n",
       "      <th>cafe_count_5000_price_1500</th>\n",
       "      <th>cafe_count_5000_price_2500</th>\n",
       "      <th>cafe_count_5000_price_4000</th>\n",
       "      <th>cafe_count_5000_price_high</th>\n",
       "      <th>big_church_count_5000</th>\n",
       "      <th>church_count_5000</th>\n",
       "      <th>mosque_count_5000</th>\n",
       "      <th>leisure_count_5000</th>\n",
       "      <th>sport_count_5000</th>\n",
       "      <th>market_count_5000</th>\n",
       "    </tr>\n",
       "  </thead>\n",
       "  <tbody>\n",
       "  </tbody>\n",
       "</table>\n",
       "<p>0 rows × 291 columns</p>\n",
       "</div>"
      ],
      "text/plain": [
       "Empty DataFrame\n",
       "Columns: [timestamp, id, full_sq, life_sq, floor, max_floor, material, build_year, num_room, kitch_sq, state, product_type, sub_area, area_m, raion_popul, green_zone_part, indust_part, children_preschool, preschool_quota, preschool_education_centers_raion, children_school, school_quota, school_education_centers_raion, school_education_centers_top_20_raion, hospital_beds_raion, healthcare_centers_raion, university_top_20_raion, sport_objects_raion, additional_education_raion, culture_objects_top_25, culture_objects_top_25_raion, shopping_centers_raion, office_raion, thermal_power_plant_raion, incineration_raion, oil_chemistry_raion, radiation_raion, railroad_terminal_raion, big_market_raion, nuclear_reactor_raion, detention_facility_raion, full_all, male_f, female_f, young_all, young_male, young_female, work_all, work_male, work_female, ekder_all, ekder_male, ekder_female, 0_6_all, 0_6_male, 0_6_female, 7_14_all, 7_14_male, 7_14_female, 0_17_all, 0_17_male, 0_17_female, 16_29_all, 16_29_male, 16_29_female, 0_13_all, 0_13_male, 0_13_female, raion_build_count_with_material_info, build_count_block, build_count_wood, build_count_frame, build_count_brick, build_count_monolith, build_count_panel, build_count_foam, build_count_slag, build_count_mix, raion_build_count_with_builddate_info, build_count_before_1920, build_count_1921-1945, build_count_1946-1970, build_count_1971-1995, build_count_after_1995, ID_metro, metro_min_avto, metro_km_avto, metro_min_walk, metro_km_walk, kindergarten_km, school_km, park_km, green_zone_km, industrial_km, water_treatment_km, cemetery_km, incineration_km, railroad_station_walk_km, railroad_station_walk_min, ID_railroad_station_walk, ...]\n",
       "Index: []\n",
       "\n",
       "[0 rows x 291 columns]"
      ]
     },
     "execution_count": 221,
     "metadata": {},
     "output_type": "execute_result"
    }
   ],
   "source": [
    "ntest[test_r.price_doc<0.0]"
   ]
  },
  {
   "cell_type": "code",
   "execution_count": 157,
   "metadata": {
    "collapsed": true,
    "deletable": true,
    "editable": true
   },
   "outputs": [],
   "source": [
    "# Результат в файл"
   ]
  },
  {
   "cell_type": "code",
   "execution_count": 222,
   "metadata": {
    "collapsed": false,
    "deletable": true,
    "editable": true
   },
   "outputs": [],
   "source": [
    "test_r[['id','price_doc']].to_csv('../Result/res-86.csv',index=False)"
   ]
  },
  {
   "cell_type": "code",
   "execution_count": null,
   "metadata": {
    "collapsed": false,
    "deletable": true,
    "editable": true
   },
   "outputs": [],
   "source": []
  },
  {
   "cell_type": "code",
   "execution_count": 223,
   "metadata": {
    "collapsed": false,
    "deletable": true,
    "editable": true
   },
   "outputs": [
    {
     "name": "stdout",
     "output_type": "stream",
     "text": [
      "('rmsle', 0.054657677275894802) 0.981105625288 271400.206688\n",
      "('rmsle', 0.037918511181292539) 0.991109373196 179399.381886\n",
      "('rmsle', 0.042372010015824302) 0.989023072205 226981.486301\n",
      "('rmsle', 0.042372010015824302) 0.989048306144 226981.486301\n"
     ]
    }
   ],
   "source": [
    "test0 = pd.read_csv('../Result/res-75.csv')\n",
    "test1 = pd.read_csv('../Result/res-86.csv')\n",
    "test2 = pd.read_csv('../Result/res-85.csv')\n",
    "test_rmsle = rmsle(test1.price_doc,test2.price_doc,dmatrix=False)\n",
    "print rmsle(test0.price_doc,test1.price_doc,dmatrix=False), skme.r2_score(test0.price_doc,test1.price_doc), skme.mean_absolute_error(test0.price_doc,test1.price_doc)\n",
    "print rmsle(test0.price_doc,test2.price_doc,dmatrix=False), skme.r2_score(test0.price_doc,test2.price_doc), skme.mean_absolute_error(test0.price_doc,test2.price_doc)\n",
    "print rmsle(test1.price_doc,test2.price_doc,dmatrix=False), skme.r2_score(test1.price_doc,test2.price_doc), skme.mean_absolute_error(test1.price_doc,test2.price_doc)\n",
    "print rmsle(test2.price_doc,test1.price_doc,dmatrix=False), skme.r2_score(test2.price_doc,test1.price_doc), skme.mean_absolute_error(test2.price_doc,test1.price_doc)"
   ]
  },
  {
   "cell_type": "code",
   "execution_count": null,
   "metadata": {
    "collapsed": false,
    "deletable": true,
    "editable": true
   },
   "outputs": [],
   "source": []
  },
  {
   "cell_type": "code",
   "execution_count": null,
   "metadata": {
    "collapsed": true
   },
   "outputs": [],
   "source": [
    "#-------------------------------------------------------------------------------------------"
   ]
  },
  {
   "cell_type": "code",
   "execution_count": 202,
   "metadata": {
    "collapsed": false,
    "deletable": true,
    "editable": true
   },
   "outputs": [
    {
     "name": "stdout",
     "output_type": "stream",
     "text": [
      "             imp\n",
      "full_sq   1801.0\n",
      "LL           NaN\n",
      "material     NaN\n",
      "day        376.0\n",
      "year        27.0\n",
      "month      187.0\n",
      "week       316.0\n"
     ]
    },
    {
     "data": {
      "text/html": [
       "<div>\n",
       "<table border=\"1\" class=\"dataframe\">\n",
       "  <thead>\n",
       "    <tr style=\"text-align: right;\">\n",
       "      <th></th>\n",
       "      <th>imp</th>\n",
       "    </tr>\n",
       "  </thead>\n",
       "  <tbody>\n",
       "    <tr>\n",
       "      <th>ice_rink_km</th>\n",
       "      <td>266</td>\n",
       "    </tr>\n",
       "    <tr>\n",
       "      <th>ts_km</th>\n",
       "      <td>267</td>\n",
       "    </tr>\n",
       "    <tr>\n",
       "      <th>big_road2_km</th>\n",
       "      <td>272</td>\n",
       "    </tr>\n",
       "    <tr>\n",
       "      <th>railroad_station_walk_km</th>\n",
       "      <td>273</td>\n",
       "    </tr>\n",
       "    <tr>\n",
       "      <th>prom_part_3000</th>\n",
       "      <td>275</td>\n",
       "    </tr>\n",
       "    <tr>\n",
       "      <th>kitch_sq</th>\n",
       "      <td>278</td>\n",
       "    </tr>\n",
       "    <tr>\n",
       "      <th>green_part_2000</th>\n",
       "      <td>279</td>\n",
       "    </tr>\n",
       "    <tr>\n",
       "      <th>power_transmission_line_km</th>\n",
       "      <td>280</td>\n",
       "    </tr>\n",
       "    <tr>\n",
       "      <th>prom_part_1000</th>\n",
       "      <td>280</td>\n",
       "    </tr>\n",
       "    <tr>\n",
       "      <th>big_road1_km</th>\n",
       "      <td>282</td>\n",
       "    </tr>\n",
       "    <tr>\n",
       "      <th>max-floor</th>\n",
       "      <td>286</td>\n",
       "    </tr>\n",
       "    <tr>\n",
       "      <th>railroad_station_avto_min</th>\n",
       "      <td>288</td>\n",
       "    </tr>\n",
       "    <tr>\n",
       "      <th>green_part_500</th>\n",
       "      <td>296</td>\n",
       "    </tr>\n",
       "    <tr>\n",
       "      <th>green_part_1500</th>\n",
       "      <td>298</td>\n",
       "    </tr>\n",
       "    <tr>\n",
       "      <th>prom_part_2000</th>\n",
       "      <td>315</td>\n",
       "    </tr>\n",
       "    <tr>\n",
       "      <th>week</th>\n",
       "      <td>316</td>\n",
       "    </tr>\n",
       "    <tr>\n",
       "      <th>green_part_1000</th>\n",
       "      <td>319</td>\n",
       "    </tr>\n",
       "    <tr>\n",
       "      <th>metro_min_walk</th>\n",
       "      <td>320</td>\n",
       "    </tr>\n",
       "    <tr>\n",
       "      <th>ttk_km</th>\n",
       "      <td>320</td>\n",
       "    </tr>\n",
       "    <tr>\n",
       "      <th>university_km</th>\n",
       "      <td>321</td>\n",
       "    </tr>\n",
       "    <tr>\n",
       "      <th>workplaces_km</th>\n",
       "      <td>342</td>\n",
       "    </tr>\n",
       "    <tr>\n",
       "      <th>hospice_morgue_km</th>\n",
       "      <td>351</td>\n",
       "    </tr>\n",
       "    <tr>\n",
       "      <th>market_shop_km</th>\n",
       "      <td>352</td>\n",
       "    </tr>\n",
       "    <tr>\n",
       "      <th>fitness_km</th>\n",
       "      <td>353</td>\n",
       "    </tr>\n",
       "    <tr>\n",
       "      <th>big_church_km</th>\n",
       "      <td>362</td>\n",
       "    </tr>\n",
       "    <tr>\n",
       "      <th>metro_min_avto</th>\n",
       "      <td>367</td>\n",
       "    </tr>\n",
       "    <tr>\n",
       "      <th>office_km</th>\n",
       "      <td>368</td>\n",
       "    </tr>\n",
       "    <tr>\n",
       "      <th>metro_km_avto</th>\n",
       "      <td>372</td>\n",
       "    </tr>\n",
       "    <tr>\n",
       "      <th>day</th>\n",
       "      <td>376</td>\n",
       "    </tr>\n",
       "    <tr>\n",
       "      <th>swim_pool_km</th>\n",
       "      <td>377</td>\n",
       "    </tr>\n",
       "    <tr>\n",
       "      <th>water_km</th>\n",
       "      <td>378</td>\n",
       "    </tr>\n",
       "    <tr>\n",
       "      <th>green_zone_km</th>\n",
       "      <td>386</td>\n",
       "    </tr>\n",
       "    <tr>\n",
       "      <th>preschool_km</th>\n",
       "      <td>389</td>\n",
       "    </tr>\n",
       "    <tr>\n",
       "      <th>additional_education_km</th>\n",
       "      <td>392</td>\n",
       "    </tr>\n",
       "    <tr>\n",
       "      <th>shopping_centers_km</th>\n",
       "      <td>405</td>\n",
       "    </tr>\n",
       "    <tr>\n",
       "      <th>industrial_km</th>\n",
       "      <td>407</td>\n",
       "    </tr>\n",
       "    <tr>\n",
       "      <th>cemetery_km</th>\n",
       "      <td>409</td>\n",
       "    </tr>\n",
       "    <tr>\n",
       "      <th>school_km</th>\n",
       "      <td>409</td>\n",
       "    </tr>\n",
       "    <tr>\n",
       "      <th>year_week_cnt</th>\n",
       "      <td>411</td>\n",
       "    </tr>\n",
       "    <tr>\n",
       "      <th>church_synagogue_km</th>\n",
       "      <td>418</td>\n",
       "    </tr>\n",
       "    <tr>\n",
       "      <th>public_transport_station_km</th>\n",
       "      <td>431</td>\n",
       "    </tr>\n",
       "    <tr>\n",
       "      <th>catering_km</th>\n",
       "      <td>432</td>\n",
       "    </tr>\n",
       "    <tr>\n",
       "      <th>railroad_km</th>\n",
       "      <td>449</td>\n",
       "    </tr>\n",
       "    <tr>\n",
       "      <th>public_healthcare_km</th>\n",
       "      <td>461</td>\n",
       "    </tr>\n",
       "    <tr>\n",
       "      <th>kindergarten_km</th>\n",
       "      <td>516</td>\n",
       "    </tr>\n",
       "    <tr>\n",
       "      <th>max_floor</th>\n",
       "      <td>537</td>\n",
       "    </tr>\n",
       "    <tr>\n",
       "      <th>full-life</th>\n",
       "      <td>568</td>\n",
       "    </tr>\n",
       "    <tr>\n",
       "      <th>state</th>\n",
       "      <td>571</td>\n",
       "    </tr>\n",
       "    <tr>\n",
       "      <th>life:room</th>\n",
       "      <td>585</td>\n",
       "    </tr>\n",
       "    <tr>\n",
       "      <th>floor:max</th>\n",
       "      <td>598</td>\n",
       "    </tr>\n",
       "    <tr>\n",
       "      <th>year_month</th>\n",
       "      <td>660</td>\n",
       "    </tr>\n",
       "    <tr>\n",
       "      <th>kitch:full</th>\n",
       "      <td>745</td>\n",
       "    </tr>\n",
       "    <tr>\n",
       "      <th>build_year</th>\n",
       "      <td>745</td>\n",
       "    </tr>\n",
       "    <tr>\n",
       "      <th>life:full</th>\n",
       "      <td>755</td>\n",
       "    </tr>\n",
       "    <tr>\n",
       "      <th>life0</th>\n",
       "      <td>905</td>\n",
       "    </tr>\n",
       "    <tr>\n",
       "      <th>build-year</th>\n",
       "      <td>908</td>\n",
       "    </tr>\n",
       "    <tr>\n",
       "      <th>floor0</th>\n",
       "      <td>917</td>\n",
       "    </tr>\n",
       "    <tr>\n",
       "      <th>full:room</th>\n",
       "      <td>943</td>\n",
       "    </tr>\n",
       "    <tr>\n",
       "      <th>year_week</th>\n",
       "      <td>975</td>\n",
       "    </tr>\n",
       "    <tr>\n",
       "      <th>full_sq</th>\n",
       "      <td>1801</td>\n",
       "    </tr>\n",
       "  </tbody>\n",
       "</table>\n",
       "</div>"
      ],
      "text/plain": [
       "                              imp\n",
       "ice_rink_km                   266\n",
       "ts_km                         267\n",
       "big_road2_km                  272\n",
       "railroad_station_walk_km      273\n",
       "prom_part_3000                275\n",
       "kitch_sq                      278\n",
       "green_part_2000               279\n",
       "power_transmission_line_km    280\n",
       "prom_part_1000                280\n",
       "big_road1_km                  282\n",
       "max-floor                     286\n",
       "railroad_station_avto_min     288\n",
       "green_part_500                296\n",
       "green_part_1500               298\n",
       "prom_part_2000                315\n",
       "week                          316\n",
       "green_part_1000               319\n",
       "metro_min_walk                320\n",
       "ttk_km                        320\n",
       "university_km                 321\n",
       "workplaces_km                 342\n",
       "hospice_morgue_km             351\n",
       "market_shop_km                352\n",
       "fitness_km                    353\n",
       "big_church_km                 362\n",
       "metro_min_avto                367\n",
       "office_km                     368\n",
       "metro_km_avto                 372\n",
       "day                           376\n",
       "swim_pool_km                  377\n",
       "water_km                      378\n",
       "green_zone_km                 386\n",
       "preschool_km                  389\n",
       "additional_education_km       392\n",
       "shopping_centers_km           405\n",
       "industrial_km                 407\n",
       "cemetery_km                   409\n",
       "school_km                     409\n",
       "year_week_cnt                 411\n",
       "church_synagogue_km           418\n",
       "public_transport_station_km   431\n",
       "catering_km                   432\n",
       "railroad_km                   449\n",
       "public_healthcare_km          461\n",
       "kindergarten_km               516\n",
       "max_floor                     537\n",
       "full-life                     568\n",
       "state                         571\n",
       "life:room                     585\n",
       "floor:max                     598\n",
       "year_month                    660\n",
       "kitch:full                    745\n",
       "build_year                    745\n",
       "life:full                     755\n",
       "life0                         905\n",
       "build-year                    908\n",
       "floor0                        917\n",
       "full:room                     943\n",
       "year_week                     975\n",
       "full_sq                      1801"
      ]
     },
     "execution_count": 202,
     "metadata": {},
     "output_type": "execute_result"
    }
   ],
   "source": [
    "fff = bstCV.get_fscore()\n",
    "fff = pd.DataFrame(fff.values(),index=fff.keys(),columns=['imp'])\n",
    "ffs = fff.sort_values('imp')\n",
    "print ffs.ix[['full_sq','LL','material','day','year','month','week']]\n",
    "ffs.tail(60)\n",
    "#ffs.head(60)\n",
    "#ffs[-120:-60]"
   ]
  },
  {
   "cell_type": "code",
   "execution_count": 203,
   "metadata": {
    "collapsed": false
   },
   "outputs": [
    {
     "data": {
      "image/png": "[encoded data removed]",
      "text/plain": [
       "<matplotlib.figure.Figure at 0x7fdb847d7a50>"
      ]
     },
     "metadata": {},
     "output_type": "display_data"
    }
   ],
   "source": [
    "plt.hist(ffs.imp,bins=200); plt.show()"
   ]
  },
  {
   "cell_type": "code",
   "execution_count": 204,
   "metadata": {
    "collapsed": false
   },
   "outputs": [
    {
     "name": "stdout",
     "output_type": "stream",
     "text": [
      "228\n"
     ]
    },
    {
     "data": {
      "text/plain": [
       "['young_male',\n",
       " 'mosque_count_2000',\n",
       " '0_13_all',\n",
       " 'mosque_count_500',\n",
       " 'build_count_foam',\n",
       " '0_17_female',\n",
       " '0_13_female',\n",
       " 'big_market_raion',\n",
       " 'nuclear_reactor_raion',\n",
       " '7_14_all',\n",
       " 'university_top_20_raion',\n",
       " '0_6_all',\n",
       " 'big_church_count_500',\n",
       " '7_14_female',\n",
       " 'railroad_1line',\n",
       " 'cafe_count_2000_price_high',\n",
       " 'build_count_mix',\n",
       " 'culture_objects_top_25_raion',\n",
       " '7_14_male',\n",
       " 'thermal_power_plant_raion',\n",
       " 'water_1line',\n",
       " 'trc_count_500',\n",
       " 'cafe_count_1500_price_high',\n",
       " 'cafe_count_500_price_4000',\n",
       " 'big_road1_1line',\n",
       " 'raion_build_count_with_builddate_info',\n",
       " '0_17_male',\n",
       " '16_29_female',\n",
       " '0_6_male',\n",
       " 'cafe_count_3000_price_high',\n",
       " 'female_f',\n",
       " 'detention_facility_raion',\n",
       " 'work_male',\n",
       " 'build_count_frame',\n",
       " 'work_all',\n",
       " 'young_all',\n",
       " 'cafe_count_1000_price_high',\n",
       " 'leisure_count_500',\n",
       " 'church_count_500',\n",
       " 'big_church_count_1000',\n",
       " '16_29_male',\n",
       " 'school_education_centers_top_20_raion',\n",
       " 'market_count_1000',\n",
       " 'young_female',\n",
       " 'ID_bus_terminal',\n",
       " 'culture_objects_top_25',\n",
       " 'radiation_raion',\n",
       " 'leisure_count_1500',\n",
       " 'build_count_before_1920',\n",
       " '0_6_female',\n",
       " 'leisure_count_1000',\n",
       " 'build_count_slag',\n",
       " 'ID_railroad_terminal',\n",
       " 'children_school',\n",
       " 'office_count_500',\n",
       " 'school_education_centers_raion',\n",
       " 'leisure_count_2000',\n",
       " 'cafe_count_1500_price_4000',\n",
       " 'ekder_female',\n",
       " 'cafe_count_500_na_price',\n",
       " 'market_count_500',\n",
       " 'ekder_male',\n",
       " 'church_count_1000',\n",
       " 'cafe_count_500_price_2500',\n",
       " 'work_female',\n",
       " 'office_raion',\n",
       " 'build_count_wood',\n",
       " 'sport_objects_raion',\n",
       " 'preschool_education_centers_raion',\n",
       " 'cafe_count_1000_price_4000',\n",
       " 'build_count_1921-1945',\n",
       " 'ecology',\n",
       " 'market_count_3000',\n",
       " 'build_count_after_1995',\n",
       " 'healthcare_centers_raion',\n",
       " 'leisure_count_5000',\n",
       " 'year',\n",
       " 'market_count_2000',\n",
       " 'build_count_1946-1970',\n",
       " 'big_church_count_1500',\n",
       " 'cafe_count_1000_na_price',\n",
       " 'additional_education_raion',\n",
       " 'big_church_count_2000',\n",
       " 'male_f',\n",
       " 'cafe_count_1500_na_price',\n",
       " 'ekder_all',\n",
       " 'build_count_1971-1995',\n",
       " '16_29_all',\n",
       " 'children_preschool',\n",
       " 'big_church_count_5000',\n",
       " 'cafe_count_3000_price_4000',\n",
       " 'cafe_count_2000_price_2500',\n",
       " 'raion_popul',\n",
       " 'trc_count_1000',\n",
       " 'cafe_count_500_price_1500',\n",
       " 'build_count_brick',\n",
       " 'market_count_1500',\n",
       " 'market_count_5000',\n",
       " 'church_count_1500',\n",
       " 'cafe_count_1500_price_2500',\n",
       " 'build_count_monolith',\n",
       " 'cafe_avg_price_500',\n",
       " 'office_count_1000',\n",
       " 'office_count_1500',\n",
       " 'office_count_2000',\n",
       " 'big_church_count_3000',\n",
       " 'cafe_count_2000_na_price',\n",
       " 'cafe_count_500_price_500',\n",
       " 'shopping_centers_raion',\n",
       " 'cafe_count_500_price_1000',\n",
       " 'school_quota',\n",
       " 'cafe_count_2000_price_4000',\n",
       " 'trc_sqm_500',\n",
       " 'cafe_avg_price_1500',\n",
       " 'cafe_count_2000_price_1500',\n",
       " 'cafe_count_1000_price_500',\n",
       " 'raion_build_count_with_material_info',\n",
       " 'cafe_count_1000_price_2500',\n",
       " 'ID_big_road1',\n",
       " 'sport_count_500',\n",
       " 'cafe_avg_price_2000',\n",
       " 'full_all',\n",
       " 'cafe_count_1000_price_1500',\n",
       " 'cafe_count_500',\n",
       " 'cafe_count_5000_price_1500',\n",
       " 'railroad_station_walk_min',\n",
       " 'cafe_avg_price_3000',\n",
       " 'ID_railroad_station_avto',\n",
       " 'cafe_count_1500_price_1000',\n",
       " 'cafe_avg_price_1000',\n",
       " 'cafe_count_1500_price_500',\n",
       " 'metro_km_walk',\n",
       " 'kremlin_km',\n",
       " 'cafe_count_1000_price_1000',\n",
       " 'cafe_count_5000_price_4000',\n",
       " 'indust_part',\n",
       " 'church_count_2000',\n",
       " 'church_count_5000',\n",
       " 'leisure_count_3000',\n",
       " 'build_count_block',\n",
       " 'build_count_panel',\n",
       " 'office_count_3000',\n",
       " 'cafe_count_3000_price_1500',\n",
       " 'cafe_count_3000_price_500',\n",
       " 'office_count_5000',\n",
       " 'cafe_avg_price_5000',\n",
       " 'green_zone_part',\n",
       " 'cafe_count_5000_na_price',\n",
       " 'cafe_count_5000_price_1000',\n",
       " 'cafe_sum_1000_max_price_avg',\n",
       " 'cafe_count_3000_na_price',\n",
       " 'office_sqm_500',\n",
       " 'sport_count_2000',\n",
       " 'preschool_quota',\n",
       " 'ID_big_road2',\n",
       " 'public_transport_station_min_walk',\n",
       " 'cafe_count_2000_price_500',\n",
       " 'cafe_count_1500_price_1500',\n",
       " 'cafe_count_5000_price_500',\n",
       " 'trc_count_3000',\n",
       " 'sport_count_1500',\n",
       " 'trc_count_1500',\n",
       " 'cafe_count_2000_price_1000',\n",
       " 'ID_railroad_station_walk',\n",
       " 'sport_count_1000',\n",
       " 'trc_count_2000',\n",
       " 'cafe_count_3000_price_1000',\n",
       " 'office_sqm_1000',\n",
       " 'cafe_count_5000_price_high',\n",
       " 'hospital_beds_raion',\n",
       " 'trc_count_5000',\n",
       " 'cafe_sum_500_max_price_avg',\n",
       " 'cafe_sum_1500_max_price_avg',\n",
       " 'weekday',\n",
       " 'bulvar_ring_km',\n",
       " 'cafe_count_3000_price_2500',\n",
       " 'church_count_3000',\n",
       " 'sport_count_5000',\n",
       " 'sub_area',\n",
       " 'trc_sqm_1000',\n",
       " 'cafe_sum_2000_max_price_avg',\n",
       " 'cafe_sum_500_min_price_avg',\n",
       " 'area_m',\n",
       " 'office_sqm_1500',\n",
       " 'cafe_count_1500',\n",
       " 'ID_metro',\n",
       " 'office_sqm_3000',\n",
       " 'office_sqm_2000',\n",
       " 'sadovoe_km',\n",
       " 'cafe_count_1000',\n",
       " 'cafe_sum_3000_max_price_avg',\n",
       " 'product_type',\n",
       " 'cafe_sum_1500_min_price_avg',\n",
       " 'sport_count_3000',\n",
       " 'cafe_count_5000',\n",
       " 'office_sqm_5000',\n",
       " 'cafe_sum_5000_max_price_avg',\n",
       " 'cafe_sum_1000_min_price_avg',\n",
       " 'trc_sqm_5000',\n",
       " 'trc_sqm_2000',\n",
       " 'cafe_sum_3000_min_price_avg',\n",
       " 'mkad_km',\n",
       " 'incineration_km',\n",
       " 'water_treatment_km',\n",
       " 'trc_sqm_1500',\n",
       " 'exhibition_km',\n",
       " 'prom_part_500',\n",
       " 'cafe_sum_2000_min_price_avg',\n",
       " 'num_room',\n",
       " 'nuclear_reactor_km',\n",
       " 'month',\n",
       " 'cafe_count_5000_price_2500',\n",
       " 'trc_sqm_3000',\n",
       " 'cafe_sum_5000_min_price_avg',\n",
       " 'thermal_power_plant_km',\n",
       " 'cafe_count_2000',\n",
       " 'museum_km',\n",
       " 'mosque_km',\n",
       " 'big_market_km',\n",
       " 'railroad_station_avto_km',\n",
       " 'theater_km',\n",
       " 'cafe_count_3000',\n",
       " 'detention_facility_km',\n",
       " 'basketball_km',\n",
       " 'prom_part_5000',\n",
       " 'year_month_cnt',\n",
       " 'prom_part_1500',\n",
       " 'stadium_km']"
      ]
     },
     "execution_count": 204,
     "metadata": {},
     "output_type": "execute_result"
    }
   ],
   "source": [
    "col_not_use_imp = ffs.index[ffs.imp<250].values.tolist()\n",
    "print(len(col_not_use_imp ))\n",
    "col_not_use_imp"
   ]
  },
  {
   "cell_type": "code",
   "execution_count": 61,
   "metadata": {
    "collapsed": false,
    "deletable": true,
    "editable": true
   },
   "outputs": [
    {
     "data": {
      "text/plain": [
       "<matplotlib.figure.Figure at 0x7fcd71a1b410>"
      ]
     },
     "metadata": {},
     "output_type": "display_data"
    },
    {
     "data": {
      "image/png": "[encoded data removed]",
      "text/plain": [
       "<matplotlib.figure.Figure at 0x7fcd71b9d2d0>"
      ]
     },
     "metadata": {},
     "output_type": "display_data"
    }
   ],
   "source": [
    "aax = plt.figure(figsize=(16, 16));\n",
    "xgb.plot_importance(bst); \n",
    "#xgb.plot_tree(bst); \n",
    "plt.show()"
   ]
  },
  {
   "cell_type": "code",
   "execution_count": null,
   "metadata": {
    "collapsed": true,
    "deletable": true,
    "editable": true
   },
   "outputs": [],
   "source": []
  },
  {
   "cell_type": "code",
   "execution_count": null,
   "metadata": {
    "collapsed": true,
    "deletable": true,
    "editable": true
   },
   "outputs": [],
   "source": []
  },
  {
   "cell_type": "code",
   "execution_count": null,
   "metadata": {
    "collapsed": true,
    "deletable": true,
    "editable": true
   },
   "outputs": [],
   "source": []
  },
  {
   "cell_type": "code",
   "execution_count": null,
   "metadata": {
    "collapsed": true,
    "deletable": true,
    "editable": true
   },
   "outputs": [],
   "source": []
  },
  {
   "cell_type": "code",
   "execution_count": null,
   "metadata": {
    "collapsed": true,
    "deletable": true,
    "editable": true
   },
   "outputs": [],
   "source": []
  },
  {
   "cell_type": "code",
   "execution_count": null,
   "metadata": {
    "collapsed": true,
    "deletable": true,
    "editable": true
   },
   "outputs": [],
   "source": []
  },
  {
   "cell_type": "code",
   "execution_count": 8,
   "metadata": {
    "collapsed": false,
    "deletable": true,
    "editable": true
   },
   "outputs": [],
   "source": [
    "temp=pd.DataFrame(ttrain.columns);"
   ]
  },
  {
   "cell_type": "code",
   "execution_count": 9,
   "metadata": {
    "collapsed": false,
    "deletable": true,
    "editable": true
   },
   "outputs": [
    {
     "data": {
      "text/plain": [
       "array(['Bibirevo', 'Nagatinskij Zaton', \"Tekstil'shhiki\", 'Mitino',\n",
       "       'Basmannoe', 'Nizhegorodskoe', \"Sokol'niki\", 'Koptevo', 'Kuncevo',\n",
       "       'Kosino-Uhtomskoe', 'Zapadnoe Degunino', 'Presnenskoe', 'Lefortovo',\n",
       "       \"Mar'ino\", \"Kuz'minki\", 'Nagornoe', \"Gol'janovo\", 'Vnukovo',\n",
       "       'Juzhnoe Tushino', 'Severnoe Tushino', \"Chertanovo Central'noe\",\n",
       "       'Fili Davydkovo', 'Otradnoe', 'Novo-Peredelkino', 'Bogorodskoe',\n",
       "       'Jaroslavskoe', 'Strogino', 'Hovrino', \"Moskvorech'e-Saburovo\",\n",
       "       'Staroe Krjukovo', 'Ljublino', 'Caricyno', 'Veshnjaki',\n",
       "       'Danilovskoe', 'Preobrazhenskoe', \"Kon'kovo\", 'Brateevo',\n",
       "       'Vostochnoe Izmajlovo', 'Vyhino-Zhulebino', 'Donskoe',\n",
       "       'Novogireevo', 'Juzhnoe Butovo', 'Sokol', 'Kurkino', 'Izmajlovo',\n",
       "       'Severnoe Medvedkovo', 'Rostokino', 'Orehovo-Borisovo Severnoe',\n",
       "       'Ochakovo-Matveevskoe', 'Taganskoe', 'Dmitrovskoe',\n",
       "       'Orehovo-Borisovo Juzhnoe', 'Teplyj Stan', 'Babushkinskoe',\n",
       "       'Pokrovskoe Streshnevo', 'Obruchevskoe', 'Filevskij Park',\n",
       "       'Troparevo-Nikulino', 'Severnoe Butovo', 'Hamovniki', 'Solncevo',\n",
       "       'Dorogomilovo', 'Timirjazevskoe', 'Lianozovo', 'Pechatniki',\n",
       "       'Krjukovo', 'Jasenevo', 'Chertanovo Severnoe', 'Rjazanskij',\n",
       "       'Silino', 'Ivanovskoe', 'Golovinskoe', 'Novokosino',\n",
       "       'Nagatino-Sadovniki', 'Birjulevo Vostochnoe', 'Severnoe Izmajlovo',\n",
       "       'Sokolinaja Gora', 'Vostochnoe Degunino', 'Prospekt Vernadskogo',\n",
       "       'Savelki', 'Ajeroport', 'Vojkovskoe', 'Beskudnikovskoe',\n",
       "       'Krylatskoe', 'Juzhnoportovoe', 'Perovo', 'Akademicheskoe',\n",
       "       'Horoshevo-Mnevniki', 'Shhukino', 'Kapotnja', 'Horoshevskoe',\n",
       "       'Marfino', 'Chertanovo Juzhnoe', 'Savelovskoe',\n",
       "       'Birjulevo Zapadnoe', 'Nekrasovka', 'Cheremushki', 'Sviblovo',\n",
       "       'Alekseevskoe', \"Krasnosel'skoe\", 'Kotlovka', 'Zjuzino',\n",
       "       'Ostankinskoe', 'Tverskoe', 'Losinoostrovskoe', 'Butyrskoe',\n",
       "       'Matushkino', 'Metrogorodok', 'Juzhnoe Medvedkovo', 'Lomonosovskoe',\n",
       "       'Jakimanka', 'Mozhajskoe', 'Levoberezhnoe', \"Mar'ina Roshha\",\n",
       "       'Gagarinskoe', \"Zamoskvorech'e\", \"Altuf'evskoe\", 'Ramenki',\n",
       "       'Zjablikovo', 'Meshhanskoe', 'Severnoe', 'Begovoe', 'Arbat',\n",
       "       'Poselenie Sosenskoe', 'Poselenie Moskovskij',\n",
       "       'Poselenie Pervomajskoe', 'Poselenie Desjonovskoe',\n",
       "       'Poselenie Voskresenskoe', 'Poselenie Mosrentgen', 'Troickij okrug',\n",
       "       'Poselenie Shherbinka', 'Poselenie Filimonkovskoe',\n",
       "       'Poselenie Vnukovskoe', 'Poselenie Marushkinskoe',\n",
       "       'Poselenie Shhapovskoe', 'Poselenie Rjazanovskoe',\n",
       "       'Poselenie Kokoshkino', 'Vostochnoe', 'Poselenie Krasnopahorskoe',\n",
       "       'Poselenie Novofedorovskoe', 'Poselenie Voronovskoe',\n",
       "       'Poselenie Klenovskoe', 'Poselenie Rogovskoe', 'Poselenie Kievskij',\n",
       "       'Molzhaninovskoe', 'Poselenie Mihajlovo-Jarcevskoe'], dtype=object)"
      ]
     },
     "execution_count": 9,
     "metadata": {},
     "output_type": "execute_result"
    }
   ],
   "source": [
    "ttrain['sub_area'].unique()"
   ]
  },
  {
   "cell_type": "code",
   "execution_count": 7,
   "metadata": {
    "collapsed": false,
    "deletable": true,
    "editable": true
   },
   "outputs": [
    {
     "name": "stdout",
     "output_type": "stream",
     "text": [
      "(' train=', Timestamp('2011-08-20 00:00:00'), Timestamp('2015-06-30 00:00:00'))\n",
      "('ttrain=', Timestamp('2011-08-20 00:00:00'), Timestamp('2015-06-30 00:00:00'))\n"
     ]
    }
   ],
   "source": [
    "print(' train=',train.index.min(),train.index.max())\n",
    "print('ttrain=',ttrain.index.min(),ttrain.index.max())"
   ]
  },
  {
   "cell_type": "code",
   "execution_count": 183,
   "metadata": {
    "collapsed": false,
    "deletable": true,
    "editable": true
   },
   "outputs": [
    {
     "data": {
      "text/plain": [
       "(array([ 0.05687618,  0.01495214,  0.01454301,  0.12218533,  0.01729215,\n",
       "         0.01492026,  0.01349208,  0.01702206]),\n",
       " array([[ 0.04518074,  0.06857162],\n",
       "        [ 0.00322188,  0.02668239],\n",
       "        [ 0.00281035,  0.02627567],\n",
       "        [ 0.1104504 ,  0.13392027],\n",
       "        [ 0.00539791,  0.02918638],\n",
       "        [ 0.00302285,  0.02681767],\n",
       "        [ 0.00159232,  0.02539185],\n",
       "        [ 0.00512036,  0.02892375]]),\n",
       " array([ 1404.55727916,  1411.04037485,  1868.68299746,  1877.84943322,\n",
       "         1884.673916  ,  1890.25462559,  1899.13783036,  1903.71613167]),\n",
       " array([  1.93568353e-189,   3.20097876e-190,   2.63858406e-278,\n",
       "          1.34856387e-279,   1.98803802e-280,   5.14158124e-281,\n",
       "          2.98600922e-282,   1.21397189e-282]))"
      ]
     },
     "execution_count": 183,
     "metadata": {},
     "output_type": "execute_result"
    }
   ],
   "source": [
    "acf,confint,qstat,pvalues = sm.tsa.stattools.acf(xtrain,nlags=600,alpha=0.05,qstat=True,fft=True)\n",
    "#acf\n",
    "confint.shape #[-10:]\n",
    "#qstat[-10:]\n",
    "#pvalues[-10:]\n",
    "acf[acf>3*confint[:,0]]\n",
    "#acf.shape, confint.shape\n",
    "acf[177:185], confint[177:185], qstat[177:185], pvalues[177:185]"
   ]
  },
  {
   "cell_type": "code",
   "execution_count": null,
   "metadata": {
    "collapsed": true,
    "deletable": true,
    "editable": true
   },
   "outputs": [],
   "source": []
  },
  {
   "cell_type": "code",
   "execution_count": null,
   "metadata": {
    "collapsed": true,
    "deletable": true,
    "editable": true
   },
   "outputs": [],
   "source": []
  }
 ],
 "metadata": {
  "kernelspec": {
   "display_name": "Python 2",
   "language": "python",
   "name": "python2"
  },
  "language_info": {
   "codemirror_mode": {
    "name": "ipython",
    "version": 2
   },
   "file_extension": ".py",
   "mimetype": "text/x-python",
   "name": "python",
   "nbconvert_exporter": "python",
   "pygments_lexer": "ipython2",
   "version": "2.7.13"
  }
 },
 "nbformat": 4,
 "nbformat_minor": 2
}
